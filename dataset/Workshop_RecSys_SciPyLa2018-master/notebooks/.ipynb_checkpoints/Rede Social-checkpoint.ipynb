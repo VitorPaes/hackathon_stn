{
 "cells": [
  {
   "cell_type": "markdown",
   "metadata": {},
   "source": [
    "# Construindo database"
   ]
  },
  {
   "cell_type": "code",
   "execution_count": 1,
   "metadata": {},
   "outputs": [],
   "source": [
    "\"\"\"\n",
    "Informações de usuários\n",
    "\n",
    "Representação: id, nome\n",
    "\n",
    "\n",
    "\"\"\"\n",
    "\n",
    "users = [\n",
    "    {\"id\": 0, \"name\": \"João\"},\n",
    "    {\"id\": 1, \"name\": \"Pedro\"},\n",
    "    {\"id\": 2, \"name\": \"Arthur\"},\n",
    "    {\"id\": 3, \"name\": \"Clara\"},\n",
    "    {\"id\": 4, \"name\": \"Roberto\"},\n",
    "    {\"id\": 5, \"name\": \"Júlia\"},\n",
    "    {\"id\": 6, \"name\": \"Amanda\"},\n",
    "    {\"id\": 7, \"name\": \"André\"},\n",
    "    {\"id\": 8, \"name\": \"Eduardo\"},\n",
    "    {\"id\": 9, \"name\": \"Rafael\"},\n",
    "]\n",
    "\n",
    "\"\"\"\n",
    "Rede de relacionamentos\n",
    "\n",
    "Aqui cada par é um relacionamento entre dois usuários representados através de ids\n",
    "\n",
    "(0, 1) -> João é amigo de Pedro [Relacionamento bi-direcional]\n",
    "\n",
    "\"\"\"\n",
    "\n",
    "friendship = [(0, 1), (0, 2), (1, 2), (1, 3), (2, 3), (3, 4),\n",
    "              (4, 5), (5, 6), (5, 7), (6, 8), (7, 8), (8, 9)]\n",
    "\n",
    "\"\"\"\n",
    "Salário anual por tempo trabalhado\n",
    "\n",
    "Representação: salário, tempo trabalhado (anos)\n",
    "\n",
    "\"\"\"\n",
    "\n",
    "salaries_and_tenures = [\n",
    "    (83000, 8.7), (88000, 8.1),\n",
    "    (48000, 0.7), (76000, 6),\n",
    "    (69000, 6.5), (76000, 7.5),\n",
    "    (60000, 2.5), (83000, 10),\n",
    "    (48000, 1.9), (63000, 4.2)\n",
    "                        ]\n",
    "\n",
    "\"\"\"\n",
    "Situação financeira (Contas em dias)\n",
    "\n",
    "Representação: tempo trabalhado, situação das contas\n",
    "\n",
    "\"\"\"\n",
    "\n",
    "paid_bills = {\n",
    "    0.7: \"paid\",\n",
    "    1.9: \"unpaid\",\n",
    "    2.5: \"paid\",\n",
    "    4.2: \"unpaid\",\n",
    "    6: \"unpaid\",\n",
    "    6.5: \"unpaid\",\n",
    "    7.5: \"unpaid\",\n",
    "    8.1: \"unpaid\",\n",
    "    8.7: \"paid\",\n",
    "    10: \"paid\"\n",
    "              }"
   ]
  },
  {
   "cell_type": "markdown",
   "metadata": {},
   "source": [
    "# Estudando os Dados"
   ]
  },
  {
   "cell_type": "code",
   "execution_count": 2,
   "metadata": {},
   "outputs": [
    {
     "name": "stdout",
     "output_type": "stream",
     "text": [
      "Média de salários:: \n",
      "{8.7: 83000.0, 8.1: 88000.0, 0.7: 48000.0, 6: 76000.0, 6.5: 69000.0, 7.5: 76000.0, 2.5: 60000.0, 10: 83000.0, 1.9: 48000.0, 4.2: 63000.0}\n"
     ]
    }
   ],
   "source": [
    "from collections import defaultdict\n",
    "\n",
    "\"\"\"\n",
    "    Salários e anos de experiência\n",
    "    \n",
    "\"\"\"\n",
    "\n",
    "print(\"Média de salários:: \")\n",
    "\n",
    "salary_by_tenure = defaultdict(list)\n",
    "\n",
    "for salary, tenure in salaries_and_tenures:\n",
    "    salary_by_tenure[tenure].append(salary)\n",
    "\n",
    "# Calculando média de salários por ano\n",
    "average_salary_by_tenure = {tenure: sum(salaries)/len(salaries) for tenure, salaries in salary_by_tenure.items()}\n",
    "print(average_salary_by_tenure)"
   ]
  },
  {
   "cell_type": "code",
   "execution_count": 3,
   "metadata": {},
   "outputs": [
    {
     "name": "stdout",
     "output_type": "stream",
     "text": [
      "Média de salários:: \n",
      "{'Mais que cinco anos': 79166.67, 'Menos de dois anos': 48000.0, 'Entre dois e cinco anos': 61500.0}\n"
     ]
    }
   ],
   "source": [
    "\"\"\"\n",
    "Agrupando dados para melhor visualização\n",
    "\n",
    "\"\"\"\n",
    "\n",
    "def tenure_bucket(tenure):\n",
    "    if tenure < 2:\n",
    "        return \"Menos de dois anos\"\n",
    "    elif tenure <= 5:\n",
    "        return \"Entre dois e cinco anos\"\n",
    "    else:\n",
    "        return \"Mais que cinco anos\"\n",
    "\n",
    "\n",
    "salary_by_tenure_bucket = defaultdict(list)\n",
    "\n",
    "for salary, tenure in salaries_and_tenures:\n",
    "    bucket = tenure_bucket(tenure)\n",
    "    salary_by_tenure_bucket[bucket].append(salary)\n",
    "    \n",
    "    \n",
    "print(\"Média de salários:: \")\n",
    "\n",
    "# Calculando média de salários com agrupamento\n",
    "average_salary_by_bucket = {tenure_bucket: round(sum(salaries)/len(salaries),2)\n",
    "                            for tenure_bucket, salaries in salary_by_tenure_bucket.items()}\n",
    "print(average_salary_by_bucket)"
   ]
  },
  {
   "cell_type": "code",
   "execution_count": 4,
   "metadata": {},
   "outputs": [
    {
     "data": {
      "text/plain": [
       "'paid'"
      ]
     },
     "execution_count": 4,
     "metadata": {},
     "output_type": "execute_result"
    }
   ],
   "source": [
    "\"\"\"\n",
    "    Bom pagador\n",
    "    \n",
    "\"\"\"\n",
    "\n",
    "\n",
    "def predict_paid_or_unpaid(year_experience):\n",
    "    if year_experience < 3.0:\n",
    "        return \"paid\"\n",
    "    elif year_experience < 8.5:\n",
    "        return \"unpaid\"\n",
    "    else:\n",
    "        return \"paid\"\n",
    "\n",
    "predict_paid_or_unpaid(9)"
   ]
  },
  {
   "cell_type": "markdown",
   "metadata": {},
   "source": [
    "# Recomendando amigos"
   ]
  },
  {
   "cell_type": "markdown",
   "metadata": {},
   "source": [
    "### Adicionar rede de amigos na estrutura de usuários (user)"
   ]
  },
  {
   "cell_type": "code",
   "execution_count": 5,
   "metadata": {},
   "outputs": [],
   "source": [
    "# Criar chave amigos na estrutura de usuários\n",
    "for user in users:\n",
    "    user['friends'] = []"
   ]
  },
  {
   "cell_type": "code",
   "execution_count": 6,
   "metadata": {},
   "outputs": [],
   "source": [
    "# Preencher amigos de cada usuário (Relação bi-direcional)\n",
    "for i, j in friendship:\n",
    "    \n",
    "    users[i]['friends'].append(users[j]['id'])\n",
    "    users[j]['friends'].append(users[i]['id'])"
   ]
  },
  {
   "cell_type": "markdown",
   "metadata": {},
   "source": [
    "### Descobrir número médio de amizades da base"
   ]
  },
  {
   "cell_type": "code",
   "execution_count": 7,
   "metadata": {},
   "outputs": [
    {
     "name": "stdout",
     "output_type": "stream",
     "text": [
      "Total de conexões:: 24\n",
      "Média de conexões:: 2.40\n",
      "Desvio Padrão das conexões:: 0.663325\n"
     ]
    }
   ],
   "source": [
    "import numpy as np\n",
    "\n",
    "# Função para contar quantos amigos\n",
    "def number_of_friends(user):\n",
    "    # Retornar o comprimento da lista de amigos\n",
    "    return len(user[\"friends\"])\n",
    "\n",
    "count_connections = [number_of_friends(user) for user in users]\n",
    "total_connections = sum(count_connections)\n",
    "print(\"Total de conexões:: %d\" % total_connections)\n",
    "\n",
    "num_users = len(users)\n",
    "avg_connections = total_connections / num_users\n",
    "\n",
    "\"\"\"\n",
    "Média e Desvio Padrão\n",
    "\n",
    "Em estatística, média é definida como o valor que mostra para onde se concentram os dados de \n",
    "uma distribuição como o ponto de equilíbrio das frequências em um histograma. Média também é \n",
    "interpretada como um valor significativo de uma lista de números.\n",
    "\n",
    "Em probabilidade, o desvio padrão ou desvio padrão populacional\n",
    "é uma medida de dispersão em torno da média populacional de uma variável aleatória.\n",
    "\n",
    "Quanto menor o desvio padrão mais homogênea é a amostra\n",
    "\n",
    "\"\"\"\n",
    "\n",
    "print(\"Média de conexões:: %.2f\" % avg_connections)\n",
    "print(\"Desvio Padrão das conexões:: %f\" % np.std(count_connections))"
   ]
  },
  {
   "cell_type": "markdown",
   "metadata": {},
   "source": [
    "### Quem tem mais amigos na base"
   ]
  },
  {
   "cell_type": "code",
   "execution_count": 8,
   "metadata": {},
   "outputs": [
    {
     "name": "stdout",
     "output_type": "stream",
     "text": [
      "{'id': 0, 'name': 'João', 'friends': [1, 2]}\n"
     ]
    }
   ],
   "source": [
    "print(users[0])"
   ]
  },
  {
   "cell_type": "code",
   "execution_count": 9,
   "metadata": {},
   "outputs": [
    {
     "name": "stdout",
     "output_type": "stream",
     "text": [
      "Mais amigos sorteados::  [(1, 3), (2, 3), (3, 3), (5, 3), (8, 3), (0, 2), (4, 2), (6, 2), (7, 2), (9, 1)]\n"
     ]
    }
   ],
   "source": [
    "# Utiliza função da cell anterior\n",
    "num_friends_by_id = [(user[\"id\"], number_of_friends(user)) for user in users]\n",
    "# Saida -> par (usuário, numero de amigos)\n",
    "print(\"Mais amigos sorteados:: \", sorted(num_friends_by_id, key=lambda num_friends: num_friends[1], reverse=True))\n"
   ]
  },
  {
   "cell_type": "markdown",
   "metadata": {},
   "source": [
    "### Amigos de amigos (Pessoas que você deve conhecer)"
   ]
  },
  {
   "cell_type": "code",
   "execution_count": 10,
   "metadata": {},
   "outputs": [
    {
     "name": "stdout",
     "output_type": "stream",
     "text": [
      "Amigos de Amigos:: \n",
      "Recomendação de amigo para João:: [0, 2, 3, 0, 1, 3] \n"
     ]
    }
   ],
   "source": [
    "def friends_of_friend_ids_bad(user):\n",
    "    # foaf = friend of a friend\n",
    "    return [foaf for friend in user['friends'] for foaf in users[friend]['friends']]\n",
    "\n",
    "\n",
    "print(\"Amigos de Amigos:: \")\n",
    "print(\"Recomendação de amigo para %s:: %s \" % (users[0]['name'], friends_of_friend_ids_bad(users[0])))"
   ]
  },
  {
   "cell_type": "markdown",
   "metadata": {},
   "source": [
    "# Problema?"
   ]
  },
  {
   "cell_type": "code",
   "execution_count": 11,
   "metadata": {},
   "outputs": [
    {
     "name": "stdout",
     "output_type": "stream",
     "text": [
      "Recomendação de amigo para João:: [3] \n"
     ]
    }
   ],
   "source": [
    "from collections import Counter\n",
    "import numpy as np\n",
    "\n",
    "def not_the_same(user, other_user):\n",
    "    return user['id'] != other_user['id']\n",
    "\n",
    "\n",
    "def not_friends(user, other_user):\n",
    "    return all(not_the_same(users[friend], other_user) for friend in user['friends'])\n",
    "\n",
    "\n",
    "def friends_of_friend_ids(user):\n",
    "    return [foaf for friend in user['friends'] for foaf in users[friend]['friends']\n",
    "                   if not_the_same(user, users[foaf]) and not_friends(user, users[foaf])]\n",
    "#     return Counter(foaf for friend in user['friends'] for foaf in users[friend]['friends']\n",
    "#                    if not_the_same(user, users[foaf]) and not_friends(user, users[foaf]))\n",
    "\n",
    "\n",
    "# Recommend 3 because they have 2 friends in common\n",
    "print(\"Recomendação de amigo para %s:: %s \" % (users[0]['name'], np.unique(friends_of_friend_ids(users[0]))))"
   ]
  },
  {
   "cell_type": "markdown",
   "metadata": {},
   "source": [
    "## Recomendação de Interesses"
   ]
  },
  {
   "cell_type": "code",
   "execution_count": 12,
   "metadata": {},
   "outputs": [
    {
     "name": "stdout",
     "output_type": "stream",
     "text": [
      "Topics of interest:: \n",
      "big 3\n",
      "data 3\n",
      "java 3\n",
      "python 3\n",
      "learning 3\n",
      "hadoop 2\n",
      "hbase 2\n",
      "cassandra 2\n",
      "scikit-learn 2\n",
      "r 2\n",
      "statistics 2\n",
      "regression 2\n",
      "probability 2\n",
      "machine 2\n",
      "neural 2\n",
      "networks 2\n"
     ]
    }
   ],
   "source": [
    "\"\"\"\n",
    "Rede de interesse\n",
    "\n",
    "Representação: id, interesse\n",
    "\n",
    "\"\"\"\n",
    "\n",
    "interests = [\n",
    "    (0, \"Hadoop\"), (0, \"Big Data\"), (0, \"HBase\"), (0, \"Java\"),\n",
    "    (0, \"Spark\"), (0, \"Storm\"), (0, \"Cassandra\"),\n",
    "    (1, \"NoSQL\"), (1, \"MongoDB\"), (1, \"Cassandra\"), (1, \"HBase\"),\n",
    "    (1, \"Postgres\"), (2, \"Python\"), (2, \"scikit-learn\"), (2, \"scipy\"),\n",
    "    (2, \"numpy\"), (2, \"statsmodels\"), (2, \"pandas\"), (3, \"R\"), (3, \"Python\"),\n",
    "    (3, \"statistics\"), (3, \"regression\"), (3, \"probability\"),\n",
    "    (4, \"machine learning\"), (4, \"regression\"), (4, \"decision trees\"),\n",
    "    (4, \"libsvm\"), (5, \"Python\"), (5, \"R\"), (5, \"Java\"), (5, \"C++\"),\n",
    "    (5, \"Haskell\"), (5, \"programming languages\"), (6, \"statistics\"),\n",
    "    (6, \"probability\"), (6, \"mathematics\"), (6, \"theory\"),\n",
    "    (7, \"machine learning\"), (7, \"scikit-learn\"), (7, \"Mahout\"),\n",
    "    (7, \"neural networks\"), (8, \"neural networks\"), (8, \"deep learning\"),\n",
    "    (8, \"Big Data\"), (8, \"artificial intelligence\"), (9, \"Hadoop\"),\n",
    "    (9, \"Java\"), (9, \"MapReduce\"), (9, \"Big Data\")\n",
    "]\n",
    "\n",
    "\n",
    "\"\"\"\n",
    "    Tópicos de Interesse\n",
    "    \n",
    "\"\"\"\n",
    "\n",
    "words_and_counts = Counter(word for user, interest in interests for word in interest.lower().split())\n",
    "\n",
    "\n",
    "print(\"Topics of interest:: \")\n",
    "for word, count in words_and_counts.most_common():\n",
    "    if count > 1:\n",
    "        print(word, count)"
   ]
  },
  {
   "cell_type": "code",
   "execution_count": 13,
   "metadata": {},
   "outputs": [],
   "source": [
    "from collections import defaultdict\n",
    "\n",
    "def data_scientists_who_like(target_interest):\n",
    "    return [user_id for user_id, user_interest in interests if user_interest == target_interest]\n",
    "\n",
    "\n",
    "user_ids_by_interest = defaultdict(list)\n",
    "interest_by_user_id = defaultdict(list)\n",
    "unique_interest = set()\n",
    "\n",
    "for user_id, interest in interests:\n",
    "    user_ids_by_interest[interest].append(user_id)\n",
    "    interest_by_user_id[user_id].append(interest)\n",
    "    unique_interest.add(interest)\n",
    "\n",
    "# Ordena em ordem alfabética\n",
    "unique_interest = sorted(list(unique_interest))"
   ]
  },
  {
   "cell_type": "markdown",
   "metadata": {},
   "source": [
    "### Recomendar o que é popular"
   ]
  },
  {
   "cell_type": "code",
   "execution_count": 14,
   "metadata": {},
   "outputs": [
    {
     "name": "stdout",
     "output_type": "stream",
     "text": [
      "Recomendações para João:: [('Python', 3), ('scikit-learn', 2), ('NoSQL', 1), ('MongoDB', 1), ('Postgres', 1)] \n"
     ]
    }
   ],
   "source": [
    "from collections import Counter\n",
    "\n",
    "popular_interests = Counter(interest for user in users for interest in interest_by_user_id[user['id']]) \n",
    "\n",
    "def most_popular_new_interests(user_interests, max_results=5):\n",
    "    recommendations = [\n",
    "        (interest, frequency)\n",
    "        for interest, frequency in popular_interests.items()\n",
    "        if interest not in user_interests\n",
    "                      ]\n",
    "    return sorted(recommendations[:max_results], key=lambda x: -x[1])\n",
    "\n",
    "print(\"Recomendações para %s:: %s \" % (users[0]['name'], most_popular_new_interests(interest_by_user_id[0])))"
   ]
  },
  {
   "cell_type": "markdown",
   "metadata": {},
   "source": [
    "### Recomendação Colaborativa Personalizada"
   ]
  },
  {
   "cell_type": "code",
   "execution_count": 15,
   "metadata": {},
   "outputs": [],
   "source": [
    "import numpy as np\n",
    "\n",
    "\"\"\"\n",
    "Para comparar o quão dois usuários são parecidos, precisamos de uma métrica de (dis)similaridade\n",
    "\n",
    "    - Euclidiana\n",
    "    - Coseno \n",
    "    - Correlação\n",
    "    \n",
    "\"\"\"\n",
    "\n",
    "def cosine_similarity(v, w):\n",
    "    return np.dot(v, w) / np.sqrt(np.dot(v, v) * np.dot(w, w))"
   ]
  },
  {
   "cell_type": "markdown",
   "metadata": {},
   "source": [
    "### Recomendação Personalizada baseada nos Usuários"
   ]
  },
  {
   "cell_type": "code",
   "execution_count": 16,
   "metadata": {},
   "outputs": [
    {
     "data": {
      "text/plain": [
       "[('MapReduce', 0.56694670951384085),\n",
       " ('NoSQL', 0.33806170189140661),\n",
       " ('MongoDB', 0.33806170189140661),\n",
       " ('Postgres', 0.33806170189140661),\n",
       " ('neural networks', 0.1889822365046136),\n",
       " ('deep learning', 0.1889822365046136),\n",
       " ('artificial intelligence', 0.1889822365046136),\n",
       " ('Python', 0.15430334996209191),\n",
       " ('R', 0.15430334996209191),\n",
       " ('C++', 0.15430334996209191),\n",
       " ('Haskell', 0.15430334996209191),\n",
       " ('programming languages', 0.15430334996209191)]"
      ]
     },
     "execution_count": 16,
     "metadata": {},
     "output_type": "execute_result"
    }
   ],
   "source": [
    "from collections import defaultdict\n",
    "\n",
    "\"\"\"\n",
    "Criar vetor para um determinado usuário (usuário x interesse)\n",
    "\n",
    "1 - Se o usuário tem\n",
    "0 - Contrário\n",
    "\n",
    "\"\"\"\n",
    "\n",
    "def make_user_vector(user_id):\n",
    "    return [1 if interest in interest_by_user_id[user_id] else 0 for interest in unique_interest]\n",
    "\n",
    "\n",
    "# Criar matrix de interesses (usuários x interesses)\n",
    "users_matrix = [make_user_vector(user) for user in interest_by_user_id]\n",
    "\n",
    "# Criar matrix de similaridade\n",
    "users_sim_matrix = [[cosine_similarity(interest_vector_v, interest_vector_w) \n",
    "                     for interest_vector_w in users_matrix] \n",
    "                    for interest_vector_v in users_matrix]\n",
    "\n",
    "def most_similar_users_to(user_id):\n",
    "    pairs = [(other_user_id, similarity)\n",
    "            for other_user_id, similarity in enumerate(users_sim_matrix[user_id])\n",
    "             if user_id != other_user_id and similarity > 0\n",
    "            ]\n",
    "    return sorted(pairs, key=lambda x: -x[1])\n",
    "\n",
    "## Usuários mais similares ao João\n",
    "# most_similar_users_to(0)\n",
    "\n",
    "\"\"\"\n",
    "Gerar recomendação baseado nos usuários mais similares\n",
    "\n",
    "\"\"\"\n",
    "\n",
    "def user_based_recommendations(user_id, include_current_interests=False):\n",
    "        predictions = defaultdict(float)\n",
    "        for other_user_id, similarity in most_similar_users_to(user_id):\n",
    "            for interest in interest_by_user_id[other_user_id]:\n",
    "                # Para cada interesse soma-se a similaridade dos usuários mais proxímos\n",
    "                predictions[interest] += similarity\n",
    "        \n",
    "        # converte as recomendações em uma lista ordenada\n",
    "        predictions = sorted(predictions.items(), key=lambda x: -x[1])\n",
    "        \n",
    "        # caso deseje incluir interesses existentes include_current_interests=True\n",
    "        if include_current_interests:\n",
    "            return predictions\n",
    "        \n",
    "        else:\n",
    "            return [(prediction, score) \n",
    "                   for prediction, score in predictions\n",
    "                   if prediction not in interest_by_user_id[user_id]]\n",
    "\n",
    "## Lista de interesses do João\n",
    "# print(interest_by_user_id[0])\n",
    "# Lista de recomendações para o João\n",
    "user_based_recommendations(0)    "
   ]
  },
  {
   "cell_type": "markdown",
   "metadata": {},
   "source": [
    "### Recomendação Personalizada baseada nos Interesses"
   ]
  },
  {
   "cell_type": "code",
   "execution_count": 17,
   "metadata": {},
   "outputs": [
    {
     "data": {
      "text/plain": [
       "[('MapReduce', 1.8618073195657989),\n",
       " ('MongoDB', 1.4142135623730949),\n",
       " ('NoSQL', 1.4142135623730949),\n",
       " ('Postgres', 1.4142135623730949),\n",
       " ('artificial intelligence', 0.57735026918962584),\n",
       " ('deep learning', 0.57735026918962584),\n",
       " ('C++', 0.57735026918962584),\n",
       " ('Haskell', 0.57735026918962584),\n",
       " ('programming languages', 0.57735026918962584),\n",
       " ('neural networks', 0.40824829046386307),\n",
       " ('R', 0.40824829046386307),\n",
       " ('Python', 0.33333333333333331)]"
      ]
     },
     "execution_count": 17,
     "metadata": {},
     "output_type": "execute_result"
    }
   ],
   "source": [
    "from collections import defaultdict\n",
    "\n",
    "\"\"\"\n",
    "Criar vetor para um determinado interesse (interesse x usuários)\n",
    "\n",
    "1 - Se o interesse tem o usuário\n",
    "0 - Contrário\n",
    "\n",
    "\"\"\"\n",
    "\n",
    "def make_interest_vector(interest):\n",
    "    return [1 if interest in interest_by_user_id[user_id] else 0 for user_id in interest_by_user_id.keys()]\n",
    "\n",
    "\n",
    "# Criar matrix de interesses (usuários x interesses)\n",
    "interests_matrix = [make_interest_vector(interest) for interest in unique_interest]\n",
    "\n",
    "# Criar vetor de usuários\n",
    "def make_user_vector(user_id):\n",
    "    return [1 if interest in interest_by_user_id[user_id] else 0 for interest in unique_interest]\n",
    "\n",
    "# Criar matrix de similaridade\n",
    "users_sim_matrix = [[cosine_similarity(interest_vector_v, interest_vector_w) \n",
    "                     for interest_vector_w in users_matrix] \n",
    "                    for interest_vector_v in users_matrix]\n",
    "\n",
    "# Criar matrix de similaridade\n",
    "interests_sim_matrix = [[cosine_similarity(user_vector_v, user_vector_w) \n",
    "                     for user_vector_w in interests_matrix] \n",
    "                    for user_vector_v in interests_matrix]\n",
    "\n",
    "def most_similar_interests_to(interest_id):\n",
    "    similarities = interests_sim_matrix[interest_id]\n",
    "    pairs = [(unique_interest[other_interest_id], similarity) \n",
    "            for other_interest_id, similarity in enumerate(similarities)\n",
    "            if interest_id != other_interest_id and similarity > 0]\n",
    "    return sorted(pairs, key=lambda x: -x[1])\n",
    "\n",
    "# Imprimir interesses mais similares ao Big Data\n",
    "# most_similar_interests_to(0)\n",
    "\n",
    "def item_based_suggestions(user_id, include_current_interests=False):\n",
    "    predictions = defaultdict(float)\n",
    "    user_vector = make_user_vector(user_id)\n",
    "    \n",
    "    for interest_id, is_interested in enumerate(user_vector):\n",
    "        if is_interested == 1:\n",
    "            similar_interests = most_similar_interests_to(interest_id)\n",
    "                        \n",
    "            for interest, similarity in similar_interests:\n",
    "                predictions[interest] += similarity\n",
    "\n",
    "     # converte as recomendações em uma lista ordenada\n",
    "    predictions = sorted(predictions.items(), key=lambda x: -x[1])\n",
    "\n",
    "    # caso deseje incluir interesses existentes include_current_interests=True\n",
    "    if include_current_interests:\n",
    "        return predictions\n",
    "\n",
    "    else:\n",
    "        return [(prediction, score) \n",
    "               for prediction, score in predictions\n",
    "               if prediction not in interest_by_user_id[user_id]]\n",
    "        \n",
    "\n",
    "## Lista de interesses do João\n",
    "# print(interest_by_user_id[0])\n",
    "# Lista de recomendações para o João\n",
    "item_based_suggestions(0)"
   ]
  }
 ],
 "metadata": {
  "kernelspec": {
   "display_name": "Python 3",
   "language": "python",
   "name": "python3"
  },
  "language_info": {
   "codemirror_mode": {
    "name": "ipython",
    "version": 3
   },
   "file_extension": ".py",
   "mimetype": "text/x-python",
   "name": "python",
   "nbconvert_exporter": "python",
   "pygments_lexer": "ipython3",
   "version": "3.7.4"
  }
 },
 "nbformat": 4,
 "nbformat_minor": 2
}
