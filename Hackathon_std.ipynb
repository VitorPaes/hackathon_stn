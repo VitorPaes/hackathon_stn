{
  "nbformat": 4,
  "nbformat_minor": 0,
  "metadata": {
    "colab": {
      "name": "Hackathon_std.ipynb",
      "provenance": [],
      "collapsed_sections": [],
      "authorship_tag": "ABX9TyMjk72IB/1NNZGXR9sw2CG+",
      "include_colab_link": true
    },
    "kernelspec": {
      "name": "python3",
      "display_name": "Python 3"
    }
  },
  "cells": [
    {
      "cell_type": "markdown",
      "metadata": {
        "id": "view-in-github",
        "colab_type": "text"
      },
      "source": [
        "<a href=\"https://colab.research.google.com/github/VitorPaes/hackathon_stn/blob/master/Hackathon_std.ipynb\" target=\"_parent\"><img src=\"https://colab.research.google.com/assets/colab-badge.svg\" alt=\"Open In Colab\"/></a>"
      ]
    },
    {
      "cell_type": "markdown",
      "metadata": {
        "id": "6MpGQgycZ-RO",
        "colab_type": "text"
      },
      "source": [
        "# Bases"
      ]
    },
    {
      "cell_type": "markdown",
      "metadata": {
        "id": "Fh8GCcnBYzu_",
        "colab_type": "text"
      },
      "source": [
        "\n",
        "## Planilha com estatísticas básicas de turismo\n"
      ]
    },
    {
      "cell_type": "code",
      "metadata": {
        "id": "jqAg0s7us-9e",
        "colab_type": "code",
        "colab": {}
      },
      "source": [
        "url = 'http://dadosefatos.turismo.gov.br/images/demanda/Estatisticas_Basicas_2017_2018.xlsx'\n",
        "\n",
        "import pandas as pd\n",
        "\n",
        "DF_list = pd.read_excel(url, None)\n",
        "\n",
        "df = DF_list['5.2 Oferta hoteleira'].iloc[6:39, 0:10]\n",
        "df.columns = [\"Local\",\"MeioHospedagem_2016\",\"UnidHab_2016\",\"Leitos_2016\",\n",
        "              \"MeioHospedagem_2017\",\"UnidHab_2017\",\"Leitos_2017\",\n",
        "              \"MeioHospedagem_2018\",\"UnidHab_2018\",\"Leitos_2018\"]\n",
        "\n",
        "for col in list(df.columns):\n",
        "  try:\n",
        "    df[col] = df[col].str.strip()\n",
        "  except:\n",
        "    pass\n",
        "\n",
        "df[\"GeoClass\"] = \"Estado\"\n",
        "df[\"GeoClass\"].iloc[0] = \"País\"\n",
        "df[\"GeoClass\"].loc[df[\"Local\"].isin([\"Norte\", \"Nordeste\", \"Sudeste\",\n",
        "                                     \"Sul\", \"Centro-Oeste\"])] = \"Região\"\n"
      ],
      "execution_count": null,
      "outputs": []
    },
    {
      "cell_type": "markdown",
      "metadata": {
        "id": "5ZldK5FE51uo",
        "colab_type": "text"
      },
      "source": [
        "## Selo turismo responsável \n",
        "O selo Turismo responsável é uma certificação concedida pelo Governo Federal aos empreendimentos que seguem os protocolos estabelecidos para prevenção da COVID-19."
      ]
    },
    {
      "cell_type": "code",
      "metadata": {
        "id": "ielxJxNvtbTl",
        "colab_type": "code",
        "colab": {
          "base_uri": "https://localhost:8080/",
          "height": 502
        },
        "outputId": "cbb5c7d3-4f3b-4f04-d5e8-d7a496f5aa8e"
      },
      "source": [
        "url = 'http://www.turismo.gov.br/seloresponsavel/dados/TurismoResponsavelDadosAbertos.csv'  # Turismo responsavel pos-covid\n",
        "df = pd.read_csv(url, header=5, sep=\";\")\n",
        "df[\"UF\"].value_counts()\n"
      ],
      "execution_count": null,
      "outputs": [
        {
          "output_type": "execute_result",
          "data": {
            "text/plain": [
              "São Paulo              2836\n",
              "Rio de Janeiro         1802\n",
              "Minas Gerais           1055\n",
              "Bahia                   867\n",
              "Rio Grande do Sul       652\n",
              "Santa Catarina          580\n",
              "Paraná                  570\n",
              "Rio Grande do Norte     553\n",
              "Pernambuco              504\n",
              "Ceará                   451\n",
              "Alagoas                 445\n",
              "Maranhão                294\n",
              "Espírito Santo          224\n",
              "Goiás                   216\n",
              "Pará                    159\n",
              "Paraíba                 140\n",
              "Mato Grosso do Sul      138\n",
              "Distrito Federal        137\n",
              "Amazonas                128\n",
              "Mato Grosso             116\n",
              "Sergipe                 108\n",
              "Piauí                    92\n",
              "Tocantins                47\n",
              "Rondônia                 29\n",
              "Roraima                  15\n",
              "Amapá                     8\n",
              "Acre                      4\n",
              "Name: UF, dtype: int64"
            ]
          },
          "metadata": {
            "tags": []
          },
          "execution_count": 43
        }
      ]
    },
    {
      "cell_type": "code",
      "metadata": {
        "id": "aQLfgkmUwlA-",
        "colab_type": "code",
        "colab": {
          "base_uri": "https://localhost:8080/",
          "height": 294
        },
        "outputId": "7c120fbf-b924-467c-b228-6bbcc9604ba8"
      },
      "source": [
        "df[\"Atividade\"].value_counts()"
      ],
      "execution_count": null,
      "outputs": [
        {
          "output_type": "execute_result",
          "data": {
            "text/plain": [
              "Agência de Turismo                                                  4398\n",
              "Meio de Hospedagem                                                  3635\n",
              "Transportadora Turística                                            1468\n",
              "Restaurante, Cafeteria, Bar e Similares                              843\n",
              "Prestador Especializado em Segmentos Turísticos                      591\n",
              "Organizadora de Eventos                                              450\n",
              "Guia de Turismo                                                      271\n",
              "Prestador de Infraestrutura de Apoio para Eventos                    142\n",
              "Locadora de Veículos para Turistas                                   135\n",
              "Parque Aquático e Empreendimento de Lazer                             67\n",
              "Acampamento Turístico                                                 45\n",
              "Parque Temático                                                       44\n",
              "Empreendimento de Apoio ao Turismo Náutico ou à Pesca Desportiva      31\n",
              "Centro de Convenções                                                  27\n",
              "Casa de Espetáculos e Equipamento de Animação Turística               23\n",
              "Name: Atividade, dtype: int64"
            ]
          },
          "metadata": {
            "tags": []
          },
          "execution_count": 44
        }
      ]
    },
    {
      "cell_type": "code",
      "metadata": {
        "id": "mQgfPyfZwk9b",
        "colab_type": "code",
        "colab": {
          "base_uri": "https://localhost:8080/",
          "height": 242
        },
        "outputId": "995b405b-2ad7-407d-d877-2a61143d3fc3"
      },
      "source": [
        "df.groupby(by=[\"UF\", \"Atividade\"]).count().iloc[:,0]"
      ],
      "execution_count": null,
      "outputs": [
        {
          "output_type": "execute_result",
          "data": {
            "text/plain": [
              "UF         Atividade                                              \n",
              "Acre       Agência de Turismo                                           2\n",
              "           Restaurante, Cafeteria, Bar e Similares                      2\n",
              "Alagoas    Acampamento Turístico                                        1\n",
              "           Agência de Turismo                                         108\n",
              "           Casa de Espetáculos e Equipamento de Animação Turística      1\n",
              "                                                                     ... \n",
              "Tocantins  Organizadora de Eventos                                      1\n",
              "           Prestador Especializado em Segmentos Turísticos              3\n",
              "           Prestador de Infraestrutura de Apoio para Eventos            1\n",
              "           Restaurante, Cafeteria, Bar e Similares                      2\n",
              "           Transportadora Turística                                     2\n",
              "Name: Município, Length: 295, dtype: int64"
            ]
          },
          "metadata": {
            "tags": []
          },
          "execution_count": 45
        }
      ]
    },
    {
      "cell_type": "code",
      "metadata": {
        "id": "tW-uS5JaxZU0",
        "colab_type": "code",
        "colab": {
          "base_uri": "https://localhost:8080/",
          "height": 729
        },
        "outputId": "83ea61c6-05c2-4b68-c453-aac1861d554b"
      },
      "source": [
        "import matplotlib.pyplot as plt\n",
        "\n",
        "\n",
        "fig, axs = plt.subplots(2, 2, figsize=(20,10))\n",
        "col = \"UF\"\n",
        "df[col].value_counts().nlargest(10).plot.barh(x=col,\n",
        "                                          legend=False,\n",
        "                                          ax=axs[0,0],\n",
        "                                          title='Top 10 - '+col)\n",
        "\n",
        "\n",
        "col = \"Atividade\"\n",
        "df[col].value_counts().nlargest(10).plot.barh(x=col,\n",
        "                                          legend=False,\n",
        "                                          ax=axs[0,1],\n",
        "                                          title='Top 10 - '+col+\" - Brasil\")\n",
        "\n",
        "df.groupby(by=[\"UF\", col]).count().iloc[:,0].loc['Alagoas'].nlargest(10).plot.barh(x=col,\n",
        "                                          legend=False,\n",
        "                                          ax=axs[1,1],\n",
        "                                          title='Top 10 - '+col+\" - Alagoas\")\n",
        "\n",
        "col = \"Município\"\n",
        "df.groupby(by=[\"UF\", col]).count().iloc[:,0].loc['Alagoas'].nlargest(10).plot.barh(x=col,\n",
        "                                          legend=False,\n",
        "                                          ax=axs[1,0],\n",
        "                                          title='Top 10 - '+col+\" - Alagoas\")\n",
        "\n",
        "\n",
        "axs[0,0].invert_yaxis()\n",
        "axs[0,1].invert_yaxis()\n",
        "axs[1,0].invert_yaxis()\n",
        "axs[1,1].invert_yaxis()\n",
        "\n",
        "fig.tight_layout()"
      ],
      "execution_count": null,
      "outputs": [
        {
          "output_type": "display_data",
          "data": {
            "image/png": "[encoded data removed]",
            "text/plain": [
              "<Figure size 1440x720 with 4 Axes>"
            ]
          },
          "metadata": {
            "tags": [],
            "needs_background": "light"
          }
        }
      ]
    },
    {
      "cell_type": "code",
      "metadata": {
        "id": "8IMvxrBLxQ9Z",
        "colab_type": "code",
        "colab": {
          "base_uri": "https://localhost:8080/",
          "height": 69
        },
        "outputId": "114c8b10-7fdc-4319-b10b-2bbfee1691b8"
      },
      "source": [
        "# Dashboards\n",
        "!pip install plotly==4.9.0\n",
        "\n",
        "# Static figures to show on GitHub\n",
        "# !pip install kaleido==0.0.1\n",
        "# !pip install psutil==5.7.2"
      ],
      "execution_count": null,
      "outputs": [
        {
          "output_type": "stream",
          "text": [
            "Requirement already satisfied: plotly==4.9.0 in /usr/local/lib/python3.6/dist-packages (4.9.0)\n",
            "Requirement already satisfied: six in /usr/local/lib/python3.6/dist-packages (from plotly==4.9.0) (1.15.0)\n",
            "Requirement already satisfied: retrying>=1.3.3 in /usr/local/lib/python3.6/dist-packages (from plotly==4.9.0) (1.3.3)\n"
          ],
          "name": "stdout"
        }
      ]
    },
    {
      "cell_type": "code",
      "metadata": {
        "id": "sKGyLPVLwk6w",
        "colab_type": "code",
        "colab": {
          "base_uri": "https://localhost:8080/",
          "height": 542
        },
        "outputId": "c5b352eb-ef1c-4c7c-9bda-2127aa587077"
      },
      "source": [
        "import plotly.express as px\n",
        "fig = px.treemap(df, path=['UF'], \n",
        "                 color_continuous_scale='RdBu',\n",
        "                 title='Empresas com Selo Turismo Responsável por UF')\n",
        "fig.show()\n",
        "# fig.show('png', scale=1.25)  # static"
      ],
      "execution_count": null,
      "outputs": [
        {
          "output_type": "display_data",
          "data": {
            "text/html": [
              "<html>\n",
              "<head><meta charset=\"utf-8\" /></head>\n",
              "<body>\n",
              "    <div>\n",
              "            <script src=\"https://cdnjs.cloudflare.com/ajax/libs/mathjax/2.7.5/MathJax.js?config=TeX-AMS-MML_SVG\"></script><script type=\"text/javascript\">if (window.MathJax) {MathJax.Hub.Config({SVG: {font: \"STIX-Web\"}});}</script>\n",
              "                <script type=\"text/javascript\">window.PlotlyConfig = {MathJaxConfig: 'local'};</script>\n",
              "        <script src=\"https://cdn.plot.ly/plotly-latest.min.js\"></script>    \n",
              "            <div id=\"53ccf315-ab94-435f-ab71-9199de85f41a\" class=\"plotly-graph-div\" style=\"height:525px; width:100%;\"></div>\n",
              "            <script type=\"text/javascript\">\n",
              "                \n",
              "                    window.PLOTLYENV=window.PLOTLYENV || {};\n",
              "                    \n",
              "                if (document.getElementById(\"53ccf315-ab94-435f-ab71-9199de85f41a\")) {\n",
              "                    Plotly.newPlot(\n",
              "                        '53ccf315-ab94-435f-ab71-9199de85f41a',\n",
              "                        [{\"branchvalues\": \"total\", \"domain\": {\"x\": [0.0, 1.0], \"y\": [0.0, 1.0]}, \"hovertemplate\": \"labels=%{label}<br>count=%{value}<br>parent=%{parent}<br>id=%{id}<extra></extra>\", \"ids\": [\"Acre\", \"Alagoas\", \"Amap\\u00e1\", \"Amazonas\", \"Bahia\", \"Cear\\u00e1\", \"Distrito Federal\", \"Esp\\u00edrito Santo\", \"Goi\\u00e1s\", \"Maranh\\u00e3o\", \"Mato Grosso\", \"Mato Grosso do Sul\", \"Minas Gerais\", \"Paran\\u00e1\", \"Para\\u00edba\", \"Par\\u00e1\", \"Pernambuco\", \"Piau\\u00ed\", \"Rio Grande do Norte\", \"Rio Grande do Sul\", \"Rio de Janeiro\", \"Rond\\u00f4nia\", \"Roraima\", \"Santa Catarina\", \"Sergipe\", \"S\\u00e3o Paulo\", \"Tocantins\"], \"labels\": [\"Acre\", \"Alagoas\", \"Amap\\u00e1\", \"Amazonas\", \"Bahia\", \"Cear\\u00e1\", \"Distrito Federal\", \"Esp\\u00edrito Santo\", \"Goi\\u00e1s\", \"Maranh\\u00e3o\", \"Mato Grosso\", \"Mato Grosso do Sul\", \"Minas Gerais\", \"Paran\\u00e1\", \"Para\\u00edba\", \"Par\\u00e1\", \"Pernambuco\", \"Piau\\u00ed\", \"Rio Grande do Norte\", \"Rio Grande do Sul\", \"Rio de Janeiro\", \"Rond\\u00f4nia\", \"Roraima\", \"Santa Catarina\", \"Sergipe\", \"S\\u00e3o Paulo\", \"Tocantins\"], \"name\": \"\", \"parents\": [\"\", \"\", \"\", \"\", \"\", \"\", \"\", \"\", \"\", \"\", \"\", \"\", \"\", \"\", \"\", \"\", \"\", \"\", \"\", \"\", \"\", \"\", \"\", \"\", \"\", \"\", \"\"], \"type\": \"treemap\", \"values\": [4, 445, 8, 128, 867, 451, 137, 224, 216, 294, 116, 138, 1055, 570, 140, 159, 504, 92, 553, 652, 1802, 29, 15, 580, 108, 2836, 47]}],\n",
              "                        {\"legend\": {\"tracegroupgap\": 0}, \"template\": {\"data\": {\"bar\": [{\"error_x\": {\"color\": \"#2a3f5f\"}, \"error_y\": {\"color\": \"#2a3f5f\"}, \"marker\": {\"line\": {\"color\": \"#E5ECF6\", \"width\": 0.5}}, \"type\": \"bar\"}], \"barpolar\": [{\"marker\": {\"line\": {\"color\": \"#E5ECF6\", \"width\": 0.5}}, \"type\": \"barpolar\"}], \"carpet\": [{\"aaxis\": {\"endlinecolor\": \"#2a3f5f\", \"gridcolor\": \"white\", \"linecolor\": \"white\", \"minorgridcolor\": \"white\", \"startlinecolor\": \"#2a3f5f\"}, \"baxis\": {\"endlinecolor\": \"#2a3f5f\", \"gridcolor\": \"white\", \"linecolor\": \"white\", \"minorgridcolor\": \"white\", \"startlinecolor\": \"#2a3f5f\"}, \"type\": \"carpet\"}], \"choropleth\": [{\"colorbar\": {\"outlinewidth\": 0, \"ticks\": \"\"}, \"type\": \"choropleth\"}], \"contour\": [{\"colorbar\": {\"outlinewidth\": 0, \"ticks\": \"\"}, \"colorscale\": [[0.0, \"#0d0887\"], [0.1111111111111111, \"#46039f\"], [0.2222222222222222, \"#7201a8\"], [0.3333333333333333, \"#9c179e\"], [0.4444444444444444, \"#bd3786\"], [0.5555555555555556, \"#d8576b\"], [0.6666666666666666, \"#ed7953\"], [0.7777777777777778, \"#fb9f3a\"], [0.8888888888888888, \"#fdca26\"], [1.0, \"#f0f921\"]], \"type\": \"contour\"}], \"contourcarpet\": [{\"colorbar\": {\"outlinewidth\": 0, \"ticks\": \"\"}, \"type\": \"contourcarpet\"}], \"heatmap\": [{\"colorbar\": {\"outlinewidth\": 0, \"ticks\": \"\"}, \"colorscale\": [[0.0, \"#0d0887\"], [0.1111111111111111, \"#46039f\"], [0.2222222222222222, \"#7201a8\"], [0.3333333333333333, \"#9c179e\"], [0.4444444444444444, \"#bd3786\"], [0.5555555555555556, \"#d8576b\"], [0.6666666666666666, \"#ed7953\"], [0.7777777777777778, \"#fb9f3a\"], [0.8888888888888888, \"#fdca26\"], [1.0, \"#f0f921\"]], \"type\": \"heatmap\"}], \"heatmapgl\": [{\"colorbar\": {\"outlinewidth\": 0, \"ticks\": \"\"}, \"colorscale\": [[0.0, \"#0d0887\"], [0.1111111111111111, \"#46039f\"], [0.2222222222222222, \"#7201a8\"], [0.3333333333333333, \"#9c179e\"], [0.4444444444444444, \"#bd3786\"], [0.5555555555555556, \"#d8576b\"], [0.6666666666666666, \"#ed7953\"], [0.7777777777777778, \"#fb9f3a\"], [0.8888888888888888, \"#fdca26\"], [1.0, \"#f0f921\"]], \"type\": \"heatmapgl\"}], \"histogram\": [{\"marker\": {\"colorbar\": {\"outlinewidth\": 0, \"ticks\": \"\"}}, \"type\": \"histogram\"}], \"histogram2d\": [{\"colorbar\": {\"outlinewidth\": 0, \"ticks\": \"\"}, \"colorscale\": [[0.0, \"#0d0887\"], [0.1111111111111111, \"#46039f\"], [0.2222222222222222, \"#7201a8\"], [0.3333333333333333, \"#9c179e\"], [0.4444444444444444, \"#bd3786\"], [0.5555555555555556, \"#d8576b\"], [0.6666666666666666, \"#ed7953\"], [0.7777777777777778, \"#fb9f3a\"], [0.8888888888888888, \"#fdca26\"], [1.0, \"#f0f921\"]], \"type\": \"histogram2d\"}], \"histogram2dcontour\": [{\"colorbar\": {\"outlinewidth\": 0, \"ticks\": \"\"}, \"colorscale\": [[0.0, \"#0d0887\"], [0.1111111111111111, \"#46039f\"], [0.2222222222222222, \"#7201a8\"], [0.3333333333333333, \"#9c179e\"], [0.4444444444444444, \"#bd3786\"], [0.5555555555555556, \"#d8576b\"], [0.6666666666666666, \"#ed7953\"], [0.7777777777777778, \"#fb9f3a\"], [0.8888888888888888, \"#fdca26\"], [1.0, \"#f0f921\"]], \"type\": \"histogram2dcontour\"}], \"mesh3d\": [{\"colorbar\": {\"outlinewidth\": 0, \"ticks\": \"\"}, \"type\": \"mesh3d\"}], \"parcoords\": [{\"line\": {\"colorbar\": {\"outlinewidth\": 0, \"ticks\": \"\"}}, \"type\": \"parcoords\"}], \"pie\": [{\"automargin\": true, \"type\": \"pie\"}], \"scatter\": [{\"marker\": {\"colorbar\": {\"outlinewidth\": 0, \"ticks\": \"\"}}, \"type\": \"scatter\"}], \"scatter3d\": [{\"line\": {\"colorbar\": {\"outlinewidth\": 0, \"ticks\": \"\"}}, \"marker\": {\"colorbar\": {\"outlinewidth\": 0, \"ticks\": \"\"}}, \"type\": \"scatter3d\"}], \"scattercarpet\": [{\"marker\": {\"colorbar\": {\"outlinewidth\": 0, \"ticks\": \"\"}}, \"type\": \"scattercarpet\"}], \"scattergeo\": [{\"marker\": {\"colorbar\": {\"outlinewidth\": 0, \"ticks\": \"\"}}, \"type\": \"scattergeo\"}], \"scattergl\": [{\"marker\": {\"colorbar\": {\"outlinewidth\": 0, \"ticks\": \"\"}}, \"type\": \"scattergl\"}], \"scattermapbox\": [{\"marker\": {\"colorbar\": {\"outlinewidth\": 0, \"ticks\": \"\"}}, \"type\": \"scattermapbox\"}], \"scatterpolar\": [{\"marker\": {\"colorbar\": {\"outlinewidth\": 0, \"ticks\": \"\"}}, \"type\": \"scatterpolar\"}], \"scatterpolargl\": [{\"marker\": {\"colorbar\": {\"outlinewidth\": 0, \"ticks\": \"\"}}, \"type\": \"scatterpolargl\"}], \"scatterternary\": [{\"marker\": {\"colorbar\": {\"outlinewidth\": 0, \"ticks\": \"\"}}, \"type\": \"scatterternary\"}], \"surface\": [{\"colorbar\": {\"outlinewidth\": 0, \"ticks\": \"\"}, \"colorscale\": [[0.0, \"#0d0887\"], [0.1111111111111111, \"#46039f\"], [0.2222222222222222, \"#7201a8\"], [0.3333333333333333, \"#9c179e\"], [0.4444444444444444, \"#bd3786\"], [0.5555555555555556, \"#d8576b\"], [0.6666666666666666, \"#ed7953\"], [0.7777777777777778, \"#fb9f3a\"], [0.8888888888888888, \"#fdca26\"], [1.0, \"#f0f921\"]], \"type\": \"surface\"}], \"table\": [{\"cells\": {\"fill\": {\"color\": \"#EBF0F8\"}, \"line\": {\"color\": \"white\"}}, \"header\": {\"fill\": {\"color\": \"#C8D4E3\"}, \"line\": {\"color\": \"white\"}}, \"type\": \"table\"}]}, \"layout\": {\"annotationdefaults\": {\"arrowcolor\": \"#2a3f5f\", \"arrowhead\": 0, \"arrowwidth\": 1}, \"coloraxis\": {\"colorbar\": {\"outlinewidth\": 0, \"ticks\": \"\"}}, \"colorscale\": {\"diverging\": [[0, \"#8e0152\"], [0.1, \"#c51b7d\"], [0.2, \"#de77ae\"], [0.3, \"#f1b6da\"], [0.4, \"#fde0ef\"], [0.5, \"#f7f7f7\"], [0.6, \"#e6f5d0\"], [0.7, \"#b8e186\"], [0.8, \"#7fbc41\"], [0.9, \"#4d9221\"], [1, \"#276419\"]], \"sequential\": [[0.0, \"#0d0887\"], [0.1111111111111111, \"#46039f\"], [0.2222222222222222, \"#7201a8\"], [0.3333333333333333, \"#9c179e\"], [0.4444444444444444, \"#bd3786\"], [0.5555555555555556, \"#d8576b\"], [0.6666666666666666, \"#ed7953\"], [0.7777777777777778, \"#fb9f3a\"], [0.8888888888888888, \"#fdca26\"], [1.0, \"#f0f921\"]], \"sequentialminus\": [[0.0, \"#0d0887\"], [0.1111111111111111, \"#46039f\"], [0.2222222222222222, \"#7201a8\"], [0.3333333333333333, \"#9c179e\"], [0.4444444444444444, \"#bd3786\"], [0.5555555555555556, \"#d8576b\"], [0.6666666666666666, \"#ed7953\"], [0.7777777777777778, \"#fb9f3a\"], [0.8888888888888888, \"#fdca26\"], [1.0, \"#f0f921\"]]}, \"colorway\": [\"#636efa\", \"#EF553B\", \"#00cc96\", \"#ab63fa\", \"#FFA15A\", \"#19d3f3\", \"#FF6692\", \"#B6E880\", \"#FF97FF\", \"#FECB52\"], \"font\": {\"color\": \"#2a3f5f\"}, \"geo\": {\"bgcolor\": \"white\", \"lakecolor\": \"white\", \"landcolor\": \"#E5ECF6\", \"showlakes\": true, \"showland\": true, \"subunitcolor\": \"white\"}, \"hoverlabel\": {\"align\": \"left\"}, \"hovermode\": \"closest\", \"mapbox\": {\"style\": \"light\"}, \"paper_bgcolor\": \"white\", \"plot_bgcolor\": \"#E5ECF6\", \"polar\": {\"angularaxis\": {\"gridcolor\": \"white\", \"linecolor\": \"white\", \"ticks\": \"\"}, \"bgcolor\": \"#E5ECF6\", \"radialaxis\": {\"gridcolor\": \"white\", \"linecolor\": \"white\", \"ticks\": \"\"}}, \"scene\": {\"xaxis\": {\"backgroundcolor\": \"#E5ECF6\", \"gridcolor\": \"white\", \"gridwidth\": 2, \"linecolor\": \"white\", \"showbackground\": true, \"ticks\": \"\", \"zerolinecolor\": \"white\"}, \"yaxis\": {\"backgroundcolor\": \"#E5ECF6\", \"gridcolor\": \"white\", \"gridwidth\": 2, \"linecolor\": \"white\", \"showbackground\": true, \"ticks\": \"\", \"zerolinecolor\": \"white\"}, \"zaxis\": {\"backgroundcolor\": \"#E5ECF6\", \"gridcolor\": \"white\", \"gridwidth\": 2, \"linecolor\": \"white\", \"showbackground\": true, \"ticks\": \"\", \"zerolinecolor\": \"white\"}}, \"shapedefaults\": {\"line\": {\"color\": \"#2a3f5f\"}}, \"ternary\": {\"aaxis\": {\"gridcolor\": \"white\", \"linecolor\": \"white\", \"ticks\": \"\"}, \"baxis\": {\"gridcolor\": \"white\", \"linecolor\": \"white\", \"ticks\": \"\"}, \"bgcolor\": \"#E5ECF6\", \"caxis\": {\"gridcolor\": \"white\", \"linecolor\": \"white\", \"ticks\": \"\"}}, \"title\": {\"x\": 0.05}, \"xaxis\": {\"automargin\": true, \"gridcolor\": \"white\", \"linecolor\": \"white\", \"ticks\": \"\", \"title\": {\"standoff\": 15}, \"zerolinecolor\": \"white\", \"zerolinewidth\": 2}, \"yaxis\": {\"automargin\": true, \"gridcolor\": \"white\", \"linecolor\": \"white\", \"ticks\": \"\", \"title\": {\"standoff\": 15}, \"zerolinecolor\": \"white\", \"zerolinewidth\": 2}}}, \"title\": {\"text\": \"Empresas com Selo Turismo Respons\\u00e1vel por UF\"}},\n",
              "                        {\"responsive\": true}\n",
              "                    ).then(function(){\n",
              "                            \n",
              "var gd = document.getElementById('53ccf315-ab94-435f-ab71-9199de85f41a');\n",
              "var x = new MutationObserver(function (mutations, observer) {{\n",
              "        var display = window.getComputedStyle(gd).display;\n",
              "        if (!display || display === 'none') {{\n",
              "            console.log([gd, 'removed!']);\n",
              "            Plotly.purge(gd);\n",
              "            observer.disconnect();\n",
              "        }}\n",
              "}});\n",
              "\n",
              "// Listen for the removal of the full notebook cells\n",
              "var notebookContainer = gd.closest('#notebook-container');\n",
              "if (notebookContainer) {{\n",
              "    x.observe(notebookContainer, {childList: true});\n",
              "}}\n",
              "\n",
              "// Listen for the clearing of the current output cell\n",
              "var outputEl = gd.closest('.output');\n",
              "if (outputEl) {{\n",
              "    x.observe(outputEl, {childList: true});\n",
              "}}\n",
              "\n",
              "                        })\n",
              "                };\n",
              "                \n",
              "            </script>\n",
              "        </div>\n",
              "</body>\n",
              "</html>"
            ]
          },
          "metadata": {
            "tags": []
          }
        }
      ]
    },
    {
      "cell_type": "code",
      "metadata": {
        "id": "d2nut2KXx6eU",
        "colab_type": "code",
        "colab": {
          "base_uri": "https://localhost:8080/",
          "height": 542
        },
        "outputId": "78aa0592-826c-4751-83e7-642a7ba23332"
      },
      "source": [
        "fig = px.treemap(df, path=['Atividade'], \n",
        "                 color_continuous_scale='RdBu',\n",
        "                 title='Empresas com Selo Turismo Responsável por Atividade')\n",
        "fig.show()"
      ],
      "execution_count": null,
      "outputs": [
        {
          "output_type": "display_data",
          "data": {
            "text/html": [
              "<html>\n",
              "<head><meta charset=\"utf-8\" /></head>\n",
              "<body>\n",
              "    <div>\n",
              "            <script src=\"https://cdnjs.cloudflare.com/ajax/libs/mathjax/2.7.5/MathJax.js?config=TeX-AMS-MML_SVG\"></script><script type=\"text/javascript\">if (window.MathJax) {MathJax.Hub.Config({SVG: {font: \"STIX-Web\"}});}</script>\n",
              "                <script type=\"text/javascript\">window.PlotlyConfig = {MathJaxConfig: 'local'};</script>\n",
              "        <script src=\"https://cdn.plot.ly/plotly-latest.min.js\"></script>    \n",
              "            <div id=\"e4317aff-5b74-45aa-875b-7bb4c4599c06\" class=\"plotly-graph-div\" style=\"height:525px; width:100%;\"></div>\n",
              "            <script type=\"text/javascript\">\n",
              "                \n",
              "                    window.PLOTLYENV=window.PLOTLYENV || {};\n",
              "                    \n",
              "                if (document.getElementById(\"e4317aff-5b74-45aa-875b-7bb4c4599c06\")) {\n",
              "                    Plotly.newPlot(\n",
              "                        'e4317aff-5b74-45aa-875b-7bb4c4599c06',\n",
              "                        [{\"branchvalues\": \"total\", \"domain\": {\"x\": [0.0, 1.0], \"y\": [0.0, 1.0]}, \"hovertemplate\": \"labels=%{label}<br>count=%{value}<br>parent=%{parent}<br>id=%{id}<extra></extra>\", \"ids\": [\"Acampamento Tur\\u00edstico\", \"Ag\\u00eancia de Turismo\", \"Casa de Espet\\u00e1culos e Equipamento de Anima\\u00e7\\u00e3o Tur\\u00edstica\", \"Centro de Conven\\u00e7\\u00f5es\", \"Empreendimento de Apoio ao Turismo N\\u00e1utico ou \\u00e0 Pesca Desportiva\", \"Guia de Turismo\", \"Locadora de Ve\\u00edculos para Turistas\", \"Meio de Hospedagem\", \"Organizadora de Eventos\", \"Parque Aqu\\u00e1tico e Empreendimento de Lazer\", \"Parque Tem\\u00e1tico\", \"Prestador Especializado em Segmentos Tur\\u00edsticos\", \"Prestador de Infraestrutura de Apoio para Eventos\", \"Restaurante, Cafeteria, Bar e Similares\", \"Transportadora Tur\\u00edstica\"], \"labels\": [\"Acampamento Tur\\u00edstico\", \"Ag\\u00eancia de Turismo\", \"Casa de Espet\\u00e1culos e Equipamento de Anima\\u00e7\\u00e3o Tur\\u00edstica\", \"Centro de Conven\\u00e7\\u00f5es\", \"Empreendimento de Apoio ao Turismo N\\u00e1utico ou \\u00e0 Pesca Desportiva\", \"Guia de Turismo\", \"Locadora de Ve\\u00edculos para Turistas\", \"Meio de Hospedagem\", \"Organizadora de Eventos\", \"Parque Aqu\\u00e1tico e Empreendimento de Lazer\", \"Parque Tem\\u00e1tico\", \"Prestador Especializado em Segmentos Tur\\u00edsticos\", \"Prestador de Infraestrutura de Apoio para Eventos\", \"Restaurante, Cafeteria, Bar e Similares\", \"Transportadora Tur\\u00edstica\"], \"name\": \"\", \"parents\": [\"\", \"\", \"\", \"\", \"\", \"\", \"\", \"\", \"\", \"\", \"\", \"\", \"\", \"\", \"\"], \"type\": \"treemap\", \"values\": [45, 4397, 23, 27, 31, 271, 135, 3635, 450, 67, 44, 591, 142, 843, 1467]}],\n",
              "                        {\"legend\": {\"tracegroupgap\": 0}, \"template\": {\"data\": {\"bar\": [{\"error_x\": {\"color\": \"#2a3f5f\"}, \"error_y\": {\"color\": \"#2a3f5f\"}, \"marker\": {\"line\": {\"color\": \"#E5ECF6\", \"width\": 0.5}}, \"type\": \"bar\"}], \"barpolar\": [{\"marker\": {\"line\": {\"color\": \"#E5ECF6\", \"width\": 0.5}}, \"type\": \"barpolar\"}], \"carpet\": [{\"aaxis\": {\"endlinecolor\": \"#2a3f5f\", \"gridcolor\": \"white\", \"linecolor\": \"white\", \"minorgridcolor\": \"white\", \"startlinecolor\": \"#2a3f5f\"}, \"baxis\": {\"endlinecolor\": \"#2a3f5f\", \"gridcolor\": \"white\", \"linecolor\": \"white\", \"minorgridcolor\": \"white\", \"startlinecolor\": \"#2a3f5f\"}, \"type\": \"carpet\"}], \"choropleth\": [{\"colorbar\": {\"outlinewidth\": 0, \"ticks\": \"\"}, \"type\": \"choropleth\"}], \"contour\": [{\"colorbar\": {\"outlinewidth\": 0, \"ticks\": \"\"}, \"colorscale\": [[0.0, \"#0d0887\"], [0.1111111111111111, \"#46039f\"], [0.2222222222222222, \"#7201a8\"], [0.3333333333333333, \"#9c179e\"], [0.4444444444444444, \"#bd3786\"], [0.5555555555555556, \"#d8576b\"], [0.6666666666666666, \"#ed7953\"], [0.7777777777777778, \"#fb9f3a\"], [0.8888888888888888, \"#fdca26\"], [1.0, \"#f0f921\"]], \"type\": \"contour\"}], \"contourcarpet\": [{\"colorbar\": {\"outlinewidth\": 0, \"ticks\": \"\"}, \"type\": \"contourcarpet\"}], \"heatmap\": [{\"colorbar\": {\"outlinewidth\": 0, \"ticks\": \"\"}, \"colorscale\": [[0.0, \"#0d0887\"], [0.1111111111111111, \"#46039f\"], [0.2222222222222222, \"#7201a8\"], [0.3333333333333333, \"#9c179e\"], [0.4444444444444444, \"#bd3786\"], [0.5555555555555556, \"#d8576b\"], [0.6666666666666666, \"#ed7953\"], [0.7777777777777778, \"#fb9f3a\"], [0.8888888888888888, \"#fdca26\"], [1.0, \"#f0f921\"]], \"type\": \"heatmap\"}], \"heatmapgl\": [{\"colorbar\": {\"outlinewidth\": 0, \"ticks\": \"\"}, \"colorscale\": [[0.0, \"#0d0887\"], [0.1111111111111111, \"#46039f\"], [0.2222222222222222, \"#7201a8\"], [0.3333333333333333, \"#9c179e\"], [0.4444444444444444, \"#bd3786\"], [0.5555555555555556, \"#d8576b\"], [0.6666666666666666, \"#ed7953\"], [0.7777777777777778, \"#fb9f3a\"], [0.8888888888888888, \"#fdca26\"], [1.0, \"#f0f921\"]], \"type\": \"heatmapgl\"}], \"histogram\": [{\"marker\": {\"colorbar\": {\"outlinewidth\": 0, \"ticks\": \"\"}}, \"type\": \"histogram\"}], \"histogram2d\": [{\"colorbar\": {\"outlinewidth\": 0, \"ticks\": \"\"}, \"colorscale\": [[0.0, \"#0d0887\"], [0.1111111111111111, \"#46039f\"], [0.2222222222222222, \"#7201a8\"], [0.3333333333333333, \"#9c179e\"], [0.4444444444444444, \"#bd3786\"], [0.5555555555555556, \"#d8576b\"], [0.6666666666666666, \"#ed7953\"], [0.7777777777777778, \"#fb9f3a\"], [0.8888888888888888, \"#fdca26\"], [1.0, \"#f0f921\"]], \"type\": \"histogram2d\"}], \"histogram2dcontour\": [{\"colorbar\": {\"outlinewidth\": 0, \"ticks\": \"\"}, \"colorscale\": [[0.0, \"#0d0887\"], [0.1111111111111111, \"#46039f\"], [0.2222222222222222, \"#7201a8\"], [0.3333333333333333, \"#9c179e\"], [0.4444444444444444, \"#bd3786\"], [0.5555555555555556, \"#d8576b\"], [0.6666666666666666, \"#ed7953\"], [0.7777777777777778, \"#fb9f3a\"], [0.8888888888888888, \"#fdca26\"], [1.0, \"#f0f921\"]], \"type\": \"histogram2dcontour\"}], \"mesh3d\": [{\"colorbar\": {\"outlinewidth\": 0, \"ticks\": \"\"}, \"type\": \"mesh3d\"}], \"parcoords\": [{\"line\": {\"colorbar\": {\"outlinewidth\": 0, \"ticks\": \"\"}}, \"type\": \"parcoords\"}], \"pie\": [{\"automargin\": true, \"type\": \"pie\"}], \"scatter\": [{\"marker\": {\"colorbar\": {\"outlinewidth\": 0, \"ticks\": \"\"}}, \"type\": \"scatter\"}], \"scatter3d\": [{\"line\": {\"colorbar\": {\"outlinewidth\": 0, \"ticks\": \"\"}}, \"marker\": {\"colorbar\": {\"outlinewidth\": 0, \"ticks\": \"\"}}, \"type\": \"scatter3d\"}], \"scattercarpet\": [{\"marker\": {\"colorbar\": {\"outlinewidth\": 0, \"ticks\": \"\"}}, \"type\": \"scattercarpet\"}], \"scattergeo\": [{\"marker\": {\"colorbar\": {\"outlinewidth\": 0, \"ticks\": \"\"}}, \"type\": \"scattergeo\"}], \"scattergl\": [{\"marker\": {\"colorbar\": {\"outlinewidth\": 0, \"ticks\": \"\"}}, \"type\": \"scattergl\"}], \"scattermapbox\": [{\"marker\": {\"colorbar\": {\"outlinewidth\": 0, \"ticks\": \"\"}}, \"type\": \"scattermapbox\"}], \"scatterpolar\": [{\"marker\": {\"colorbar\": {\"outlinewidth\": 0, \"ticks\": \"\"}}, \"type\": \"scatterpolar\"}], \"scatterpolargl\": [{\"marker\": {\"colorbar\": {\"outlinewidth\": 0, \"ticks\": \"\"}}, \"type\": \"scatterpolargl\"}], \"scatterternary\": [{\"marker\": {\"colorbar\": {\"outlinewidth\": 0, \"ticks\": \"\"}}, \"type\": \"scatterternary\"}], \"surface\": [{\"colorbar\": {\"outlinewidth\": 0, \"ticks\": \"\"}, \"colorscale\": [[0.0, \"#0d0887\"], [0.1111111111111111, \"#46039f\"], [0.2222222222222222, \"#7201a8\"], [0.3333333333333333, \"#9c179e\"], [0.4444444444444444, \"#bd3786\"], [0.5555555555555556, \"#d8576b\"], [0.6666666666666666, \"#ed7953\"], [0.7777777777777778, \"#fb9f3a\"], [0.8888888888888888, \"#fdca26\"], [1.0, \"#f0f921\"]], \"type\": \"surface\"}], \"table\": [{\"cells\": {\"fill\": {\"color\": \"#EBF0F8\"}, \"line\": {\"color\": \"white\"}}, \"header\": {\"fill\": {\"color\": \"#C8D4E3\"}, \"line\": {\"color\": \"white\"}}, \"type\": \"table\"}]}, \"layout\": {\"annotationdefaults\": {\"arrowcolor\": \"#2a3f5f\", \"arrowhead\": 0, \"arrowwidth\": 1}, \"coloraxis\": {\"colorbar\": {\"outlinewidth\": 0, \"ticks\": \"\"}}, \"colorscale\": {\"diverging\": [[0, \"#8e0152\"], [0.1, \"#c51b7d\"], [0.2, \"#de77ae\"], [0.3, \"#f1b6da\"], [0.4, \"#fde0ef\"], [0.5, \"#f7f7f7\"], [0.6, \"#e6f5d0\"], [0.7, \"#b8e186\"], [0.8, \"#7fbc41\"], [0.9, \"#4d9221\"], [1, \"#276419\"]], \"sequential\": [[0.0, \"#0d0887\"], [0.1111111111111111, \"#46039f\"], [0.2222222222222222, \"#7201a8\"], [0.3333333333333333, \"#9c179e\"], [0.4444444444444444, \"#bd3786\"], [0.5555555555555556, \"#d8576b\"], [0.6666666666666666, \"#ed7953\"], [0.7777777777777778, \"#fb9f3a\"], [0.8888888888888888, \"#fdca26\"], [1.0, \"#f0f921\"]], \"sequentialminus\": [[0.0, \"#0d0887\"], [0.1111111111111111, \"#46039f\"], [0.2222222222222222, \"#7201a8\"], [0.3333333333333333, \"#9c179e\"], [0.4444444444444444, \"#bd3786\"], [0.5555555555555556, \"#d8576b\"], [0.6666666666666666, \"#ed7953\"], [0.7777777777777778, \"#fb9f3a\"], [0.8888888888888888, \"#fdca26\"], [1.0, \"#f0f921\"]]}, \"colorway\": [\"#636efa\", \"#EF553B\", \"#00cc96\", \"#ab63fa\", \"#FFA15A\", \"#19d3f3\", \"#FF6692\", \"#B6E880\", \"#FF97FF\", \"#FECB52\"], \"font\": {\"color\": \"#2a3f5f\"}, \"geo\": {\"bgcolor\": \"white\", \"lakecolor\": \"white\", \"landcolor\": \"#E5ECF6\", \"showlakes\": true, \"showland\": true, \"subunitcolor\": \"white\"}, \"hoverlabel\": {\"align\": \"left\"}, \"hovermode\": \"closest\", \"mapbox\": {\"style\": \"light\"}, \"paper_bgcolor\": \"white\", \"plot_bgcolor\": \"#E5ECF6\", \"polar\": {\"angularaxis\": {\"gridcolor\": \"white\", \"linecolor\": \"white\", \"ticks\": \"\"}, \"bgcolor\": \"#E5ECF6\", \"radialaxis\": {\"gridcolor\": \"white\", \"linecolor\": \"white\", \"ticks\": \"\"}}, \"scene\": {\"xaxis\": {\"backgroundcolor\": \"#E5ECF6\", \"gridcolor\": \"white\", \"gridwidth\": 2, \"linecolor\": \"white\", \"showbackground\": true, \"ticks\": \"\", \"zerolinecolor\": \"white\"}, \"yaxis\": {\"backgroundcolor\": \"#E5ECF6\", \"gridcolor\": \"white\", \"gridwidth\": 2, \"linecolor\": \"white\", \"showbackground\": true, \"ticks\": \"\", \"zerolinecolor\": \"white\"}, \"zaxis\": {\"backgroundcolor\": \"#E5ECF6\", \"gridcolor\": \"white\", \"gridwidth\": 2, \"linecolor\": \"white\", \"showbackground\": true, \"ticks\": \"\", \"zerolinecolor\": \"white\"}}, \"shapedefaults\": {\"line\": {\"color\": \"#2a3f5f\"}}, \"ternary\": {\"aaxis\": {\"gridcolor\": \"white\", \"linecolor\": \"white\", \"ticks\": \"\"}, \"baxis\": {\"gridcolor\": \"white\", \"linecolor\": \"white\", \"ticks\": \"\"}, \"bgcolor\": \"#E5ECF6\", \"caxis\": {\"gridcolor\": \"white\", \"linecolor\": \"white\", \"ticks\": \"\"}}, \"title\": {\"x\": 0.05}, \"xaxis\": {\"automargin\": true, \"gridcolor\": \"white\", \"linecolor\": \"white\", \"ticks\": \"\", \"title\": {\"standoff\": 15}, \"zerolinecolor\": \"white\", \"zerolinewidth\": 2}, \"yaxis\": {\"automargin\": true, \"gridcolor\": \"white\", \"linecolor\": \"white\", \"ticks\": \"\", \"title\": {\"standoff\": 15}, \"zerolinecolor\": \"white\", \"zerolinewidth\": 2}}}, \"title\": {\"text\": \"Empresas com Selo Turismo Respons\\u00e1vel por Atividade\"}},\n",
              "                        {\"responsive\": true}\n",
              "                    ).then(function(){\n",
              "                            \n",
              "var gd = document.getElementById('e4317aff-5b74-45aa-875b-7bb4c4599c06');\n",
              "var x = new MutationObserver(function (mutations, observer) {{\n",
              "        var display = window.getComputedStyle(gd).display;\n",
              "        if (!display || display === 'none') {{\n",
              "            console.log([gd, 'removed!']);\n",
              "            Plotly.purge(gd);\n",
              "            observer.disconnect();\n",
              "        }}\n",
              "}});\n",
              "\n",
              "// Listen for the removal of the full notebook cells\n",
              "var notebookContainer = gd.closest('#notebook-container');\n",
              "if (notebookContainer) {{\n",
              "    x.observe(notebookContainer, {childList: true});\n",
              "}}\n",
              "\n",
              "// Listen for the clearing of the current output cell\n",
              "var outputEl = gd.closest('.output');\n",
              "if (outputEl) {{\n",
              "    x.observe(outputEl, {childList: true});\n",
              "}}\n",
              "\n",
              "                        })\n",
              "                };\n",
              "                \n",
              "            </script>\n",
              "        </div>\n",
              "</body>\n",
              "</html>"
            ]
          },
          "metadata": {
            "tags": []
          }
        }
      ]
    },
    {
      "cell_type": "markdown",
      "metadata": {
        "id": "hTh0LYLHY6Hd",
        "colab_type": "text"
      },
      "source": [
        "## Planilha de turismo do Alagoas"
      ]
    },
    {
      "cell_type": "code",
      "metadata": {
        "id": "Mup0qmXQx6Z2",
        "colab_type": "code",
        "colab": {
          "base_uri": "https://localhost:8080/",
          "height": 104
        },
        "outputId": "b8dbc6e4-d851-4591-97c9-0d88165a48f0"
      },
      "source": [
        "url = 'https://raw.githubusercontent.com/VitorPaes/hackathon_stn/master/dataset/convertcsv3.csv'\n",
        "df = pd.read_csv(url, sep=\";\", encoding='latin')\n",
        "\n",
        "for col in ['Nome', 'Município', \"Segmento\"]:\n",
        "  df[col] = df[col].str.strip()\n",
        "\n",
        "col = \"Segmento\"\n",
        "df[col] = df[col].str.replace(\"Sol e Praia\",\"Praia\")\n",
        "\n",
        "\n",
        "col = \"Município\"\n",
        "df[col] = df[col].str.replace(\"-AL\",\"\")\n",
        "\n",
        "col = \"Distância da Capital (km)\" \n",
        "df[col] = df[col].str.replace(\",\",\".\").astype('float')\n",
        "\n",
        "col = \"Tempo de condução estimado\" \n",
        "df[col] = df[col].str.replace(\".\",\"\")\n",
        "df[col] = df[col].str.replace(\"minutos\",\"min\")\n",
        "df[col] = df[col].str.replace(\" \",\"\")\n",
        "df[col] = df[col].str.replace(\"he\",\":\")\n",
        "\n",
        "df[col] = df[col].str.replace(r\"^([0-9]+)min\",\"00:\\\\1\")\n",
        "df[col] = df[col].str.replace(r\"([0-9]+)h$\",\"\\\\1:00\")\n",
        "df[col] = df[col].str.replace(\"min\",\"\")\n",
        "df[col] = df[col].str.replace(\"^([0-9]):\",\"0\\\\1:\")\n",
        "df[col] = df[col].str.replace(\":([0-9])$\",\":0\\\\1\")\n",
        "\n",
        "col = \"Latitude\" \n",
        "df[col] = df[col].astype('str').str.replace(\".\",\"\")\n",
        "df[col] = df[col].str.replace(\"^-9\",\"-9.\")\n",
        "df[col] = df[col].str.replace(\"^-10\",\"-10.\").astype('float')\n",
        "\n",
        "col = \"Longitude\"\n",
        "df[col] = df[col].astype('str').str.replace(\".\",\"\")\n",
        "df[col] = df[col].str.replace(\"^-3\",\"-3.\").astype('float')\n",
        "\n",
        "col = \"Segmento\"\n",
        "df[col].value_counts()"
      ],
      "execution_count": 219,
      "outputs": [
        {
          "output_type": "execute_result",
          "data": {
            "text/plain": [
              "Praia                        56\n",
              "Histórico/Cultural           17\n",
              "Ecoturismo/Aventura           6\n",
              "Ecoturismo/Aventura/Praia     1\n",
              "Name: Segmento, dtype: int64"
            ]
          },
          "metadata": {
            "tags": []
          },
          "execution_count": 219
        }
      ]
    },
    {
      "cell_type": "markdown",
      "metadata": {
        "id": "a2JxGQKkZyw7",
        "colab_type": "text"
      },
      "source": [
        "## Tableau brasil.io"
      ]
    },
    {
      "cell_type": "code",
      "metadata": {
        "id": "Jgrte5nsJlKD",
        "colab_type": "code",
        "colab": {
          "base_uri": "https://localhost:8080/",
          "height": 1000
        },
        "outputId": "14579abd-9ed1-43b8-ed4c-3280899c46e8"
      },
      "source": [
        "%%html\n",
        "<div class='tableauPlaceholder' id='viz1596311061648' style='position: relative'><noscript>\n",
        "  <a href='#'>\n",
        "    <img alt=' ' src='https:&#47;&#47;public.tableau.com&#47;static&#47;images&#47;Co&#47;Covid-19Alagoas&#47;MonitorCovid-19-Alagoas&#47;1_rss.png' style='border: none' />\n",
        "    </a></noscript>\n",
        "  <object class='tableauViz'  style='display:none;'>\n",
        "    <param name='host_url' value='https%3A%2F%2Fpublic.tableau.com%2F' />\n",
        "  <param name='embed_code_version' value='3' />\n",
        "  <param name='path' value='views&#47;Covid-19Alagoas&#47;MonitorCovid-19-Alagoas?:language=pt&amp;:embed=y&amp;:display_count=y' />\n",
        "  <param name='toolbar' value='yes' />\n",
        "  <param name='static_image' value='https:&#47;&#47;public.tableau.com&#47;static&#47;images&#47;Co&#47;Covid-19Alagoas&#47;MonitorCovid-19-Alagoas&#47;1.png' />\n",
        "  <param name='animate_transition' value='yes' />\n",
        "  <param name='display_static_image' value='yes' />\n",
        "  <param name='display_spinner' value='yes' />\n",
        "  <param name='display_overlay' value='yes' />\n",
        "  <param name='display_count' value='yes' />\n",
        "  <param name='language' value='pt' />\n",
        "  </object></div>\n",
        "  <script type='text/javascript'>\n",
        "  var divElement = document.getElementById('viz1596311061648');\n",
        "  var vizElement = divElement.getElementsByTagName('object')[0];\n",
        "  if ( divElement.offsetWidth > 800 ) { vizElement.style.width='100%';\n",
        "  vizElement.style.height=(divElement.offsetWidth*0.75)+'px';} \n",
        "  else if ( divElement.offsetWidth > 500 ) \n",
        "  { vizElement.style.width='100%';vizElement.style.height=(divElement.offsetWidth*0.75)+'px';}\n",
        "   else { vizElement.style.width='100%';vizElement.style.height='1227px';}\n",
        "  var scriptElement = document.createElement('script');\n",
        "  scriptElement.src = 'https://public.tableau.com/javascripts/api/viz_v1.js';\n",
        "  vizElement.parentNode.insertBefore(scriptElement, vizElement);\n",
        "  </script>"
      ],
      "execution_count": 84,
      "outputs": [
        {
          "output_type": "display_data",
          "data": {
            "text/html": [
              "<div class='tableauPlaceholder' id='viz1596311061648' style='position: relative'><noscript>\n",
              "  <a href='#'><img alt=' ' src='https:&#47;&#47;public.tableau.com&#47;static&#47;images&#47;Co&#47;Covid-19Alagoas&#47;MonitorCovid-19-Alagoas&#47;1_rss.png' style='border: none' /></a></noscript>\n",
              "  <object class='tableauViz'  style='display:none;'>\n",
              "    <param name='host_url' value='https%3A%2F%2Fpublic.tableau.com%2F' />\n",
              "  <param name='embed_code_version' value='3' />\n",
              "  <param name='path' value='views&#47;Covid-19Alagoas&#47;MonitorCovid-19-Alagoas?:language=pt&amp;:embed=y&amp;:display_count=y' />\n",
              "  <param name='toolbar' value='yes' />\n",
              "  <param name='static_image' value='https:&#47;&#47;public.tableau.com&#47;static&#47;images&#47;Co&#47;Covid-19Alagoas&#47;MonitorCovid-19-Alagoas&#47;1.png' />\n",
              "  <param name='animate_transition' value='yes' />\n",
              "  <param name='display_static_image' value='yes' />\n",
              "  <param name='display_spinner' value='yes' />\n",
              "  <param name='display_overlay' value='yes' />\n",
              "  <param name='display_count' value='yes' />\n",
              "  <param name='language' value='pt' />\n",
              "  </object></div>\n",
              "  <script type='text/javascript'>\n",
              "  var divElement = document.getElementById('viz1596311061648');\n",
              "  var vizElement = divElement.getElementsByTagName('object')[0];\n",
              "  if ( divElement.offsetWidth > 800 ) { vizElement.style.width='100%';\n",
              "  vizElement.style.height=(divElement.offsetWidth*0.75)+'px';} \n",
              "  else if ( divElement.offsetWidth > 500 ) \n",
              "  { vizElement.style.width='100%';vizElement.style.height=(divElement.offsetWidth*0.75)+'px';}\n",
              "   else { vizElement.style.width='100%';vizElement.style.height='1227px';}\n",
              "  var scriptElement = document.createElement('script');\n",
              "  scriptElement.src = 'https://public.tableau.com/javascripts/api/viz_v1.js';\n",
              "  vizElement.parentNode.insertBefore(scriptElement, vizElement);\n",
              "  </script>"
            ],
            "text/plain": [
              "<IPython.core.display.HTML object>"
            ]
          },
          "metadata": {
            "tags": []
          }
        }
      ]
    },
    {
      "cell_type": "markdown",
      "metadata": {
        "id": "YKBRyHTqsOia",
        "colab_type": "text"
      },
      "source": [
        "## Caged\n",
        "Dados desemprego"
      ]
    },
    {
      "cell_type": "code",
      "metadata": {
        "id": "Mju22GbYaUxE",
        "colab_type": "code",
        "colab": {}
      },
      "source": [
        "url = 'https://github.com/VitorPaes/hackathon_stn/blob/master/dataset/2006_dadosCaged.xlsx?raw=true'\n",
        "DF_list = pd.read_excel(url, None)\n"
      ],
      "execution_count": 117,
      "outputs": []
    },
    {
      "cell_type": "code",
      "metadata": {
        "id": "KXTEEscHsjvi",
        "colab_type": "code",
        "colab": {
          "base_uri": "https://localhost:8080/",
          "height": 554
        },
        "outputId": "698ca25c-a5b3-401a-c0ab-0f15dba1c166"
      },
      "source": [
        "df = DF_list['Tabela 4'].iloc[4:33, 1:31]\n",
        "df.columns = df.iloc[0]\n",
        "df.drop(df.index[0],inplace=True)\n",
        "df.index = df.iloc[:,0]\n",
        "df.columns = df.columns.fillna('to_drop')\n",
        "df.drop('to_drop', axis = 1, inplace = True)\n",
        "df.loc[\"Alojamento e alimentação\"]"
      ],
      "execution_count": 147,
      "outputs": [
        {
          "output_type": "execute_result",
          "data": {
            "text/plain": [
              "4\n",
              "Rondônia                 -222\n",
              "Acre                      -48\n",
              "Amazonas                 -106\n",
              "Roraima                   -49\n",
              "Pará                     -142\n",
              "Amapá                     -29\n",
              "Tocantins                 -59\n",
              "Maranhão                 -159\n",
              "Piauí                    -288\n",
              "Ceará                    -590\n",
              "Rio Grande do Norte      -408\n",
              "Paraíba                  -159\n",
              "Pernambuco              -1001\n",
              "Alagoas                  -475\n",
              "Sergipe                  -247\n",
              "Bahia                   -1652\n",
              "Minas Gerais            -3348\n",
              "Espírito Santo           -705\n",
              "Rio de Janeiro          -6726\n",
              "São Paulo              -10412\n",
              "Paraná                  -2102\n",
              "Santa Catarina          -1577\n",
              "Rio Grande do Sul       -1778\n",
              "Mato Grosso do Sul       -284\n",
              "Mato Grosso              -363\n",
              "Goiás                   -1342\n",
              "Distrito Federal        -1068\n",
              "Não identificado           -1\n",
              "Total                  -35340\n",
              "Name: Alojamento e alimentação, dtype: object"
            ]
          },
          "metadata": {
            "tags": []
          },
          "execution_count": 147
        }
      ]
    },
    {
      "cell_type": "markdown",
      "metadata": {
        "id": "-4z3hmdLNQIG",
        "colab_type": "text"
      },
      "source": [
        "Foram extintos 280.017 empregos no setor de Alojamento e alimentação no Brasil apenas em 2020."
      ]
    },
    {
      "cell_type": "code",
      "metadata": {
        "id": "7grdEnIut7Et",
        "colab_type": "code",
        "colab": {
          "base_uri": "https://localhost:8080/",
          "height": 298
        },
        "outputId": "2aea6191-b7af-4cd2-e9e5-ab4b87bb1ae8"
      },
      "source": [
        "import numpy as np\n",
        "df = DF_list['Tabela 6'].iloc[4:33, 1:131]\n",
        "df.columns = df.iloc[0]\n",
        "df.drop(df.index[0],inplace=True)\n",
        "df.index = df.iloc[:,0]\n",
        "df.columns = df.columns.fillna('to_drop')\n",
        "df.drop('to_drop', axis = 1, inplace = True)\n",
        "\n",
        "df_red = df.loc[[\"Alojamento e alimentação\"]].drop(columns=[\"Admissões\", \"Estoque\", \"Desligamentos\", \"Variação Relativa (%)\"])\n",
        "df_red.columns=[\"jan\",\"fev\",\"mar\",\"abr\",\"mai\",\"jun\",\"jul\",\"ago\",\"set\",\"out\",\"nov\",\"dez\",2020]\n",
        "df_red.iloc[0,6:12]=np.nan\n",
        "df_red = df_red.T\n",
        "df_red\n",
        "plt.plot(df_red[\"Alojamento e alimentação\"].iloc[0:6])\n",
        "plt.title(\"Saldo vagas: alojamento e alimentação - Brasil 2020 - CAGED\");\n",
        "print(\"Saldo acumulado 2020: \", int(df_red.min()))"
      ],
      "execution_count": 192,
      "outputs": [
        {
          "output_type": "stream",
          "text": [
            "Saldo acumulado 2020:  -280017\n"
          ],
          "name": "stdout"
        },
        {
          "output_type": "display_data",
          "data": {
            "image/png": "[encoded data removed]",
            "text/plain": [
              "<Figure size 432x288 with 1 Axes>"
            ]
          },
          "metadata": {
            "tags": [],
            "needs_background": "light"
          }
        }
      ]
    },
    {
      "cell_type": "markdown",
      "metadata": {
        "id": "VzZd-XpeG1f6",
        "colab_type": "text"
      },
      "source": [
        "# Sistema de recomendação"
      ]
    },
    {
      "cell_type": "markdown",
      "metadata": {
        "id": "wfVZQwVbbxAQ",
        "colab_type": "text"
      },
      "source": [
        "Dados teste"
      ]
    },
    {
      "cell_type": "code",
      "metadata": {
        "id": "TjvPrJbJ_aRw",
        "colab_type": "code",
        "colab": {}
      },
      "source": [
        "from collections import Counter\n",
        "from collections import defaultdict\n",
        "\n",
        "\n",
        "\n",
        "\"\"\"\n",
        "Informações de usuários\n",
        "\n",
        "Representação: id, nome\n",
        "\n",
        "\n",
        "\"\"\"\n",
        "\n",
        "usuarios = [\n",
        "    {\"id\": 0, \"name\": \"João\"},\n",
        "    {\"id\": 1, \"name\": \"Pedro\"},\n",
        "    {\"id\": 2, \"name\": \"Arthur\"},\n",
        "    {\"id\": 3, \"name\": \"Clara\"},\n",
        "    {\"id\": 4, \"name\": \"Roberto\"},\n",
        "    {\"id\": 5, \"name\": \"Júlia\"},\n",
        "    {\"id\": 6, \"name\": \"Amanda\"},\n",
        "    {\"id\": 7, \"name\": \"André\"},\n",
        "    {\"id\": 8, \"name\": \"Eduardo\"},\n",
        "    {\"id\": 9, \"name\": \"Rafael\"},\n",
        "    \n",
        "]\n",
        "\n",
        "\n",
        "\"\"\"\n",
        "Rede de interesse\n",
        "\n",
        "Representação: id, turismo_tipos\n",
        "\n",
        "\"\"\"\n",
        "\n",
        "turismo_tipos = [\n",
        "    (0, \"Praia\"), (0, \"Histórico\"),\n",
        "    (1, \"Praia\"),\n",
        "    (2, \"Praia\"), (2, \"Ecoturismo\"),\n",
        "    (3, \"Praia\"),\n",
        "    (4, \"Praia\"), (4, \"Aventura\"),\n",
        "    (5, \"Praia\"), (5, \"Negócios\"),\n",
        "    (6, \"Praia\"), (6, \"Ecoturismo\"), (6, \"Aventura\"),\n",
        "    (7, \"Praia\"), (7, \"Eventos\"),\n",
        "    (8, \"Praia\"),\n",
        "    (9, \"Histórico\")\n",
        "]\n",
        "\n",
        "hospedagem_tipos = [\n",
        "    (0, \"Hotel\"),\n",
        "    (1, \"Airbnb\"), (1, \"Pousada\"),\n",
        "    (2, \"Casa_Parente\"),\n",
        "    (3, \"Pousada\"),\n",
        "    (4, \"Casa_Amigo\"),\n",
        "    (5, \"Hotel\"), (5, \"Pousada\"),\n",
        "    (6, \"NA\"),\n",
        "    (7, \"Casa_Amigo\"),\n",
        "    (8, \"Pousada\"),\n",
        "    (9, \"Airbnb\")\n",
        "]\n",
        "\n",
        "\n",
        "alimentacao_tipos = [\n",
        "    (0, \"Pizza\"),\n",
        "    (1, \"Churrasco\"), (1, \"Lanche\"),\n",
        "    (2, \"Padaria\"),\n",
        "    (3, \"Japonesa\"),\n",
        "    (4, \"Frutos_do_mar\"),\n",
        "    (5, \"Pizza\"),\n",
        "    (6, \"Frutos_do_mar\"),\n",
        "    (7, \"NA\"),\n",
        "    (8, \"Lanche\"), (8, \"Pizza\"),\n",
        "    (9, \"Churrasco\")                     \n",
        "]\n",
        "\n",
        "\n",
        "\n",
        "\n",
        "## TODO DICIONARIO COM TERMOS SIMILARES\n",
        "# ex: Ecoturismo: natureza\n",
        "\n",
        "\n"
      ],
      "execution_count": 243,
      "outputs": []
    },
    {
      "cell_type": "markdown",
      "metadata": {
        "id": "bsjkDMSwWpaK",
        "colab_type": "text"
      },
      "source": [
        "Funções auxiliares"
      ]
    },
    {
      "cell_type": "code",
      "metadata": {
        "id": "pjTheZZ0WolF",
        "colab_type": "code",
        "colab": {}
      },
      "source": [
        "def interest_freq(interest_types, interest_name):\n",
        "  interest_freq = Counter(word for user_id, interest in interest_types\n",
        "                           for word in interest.lower().split())\n",
        "  \n",
        "  print(\"\\nTipos de \" + interest_name)\n",
        "  \n",
        "  for word, count in interest_freq.most_common():\n",
        "    if count > 1:\n",
        "        print(word, count)\n",
        "\n",
        "  return interest_freq\n",
        "\n",
        "\n",
        "def turismo_preferencia(target):\n",
        "    return [id_usuario for id_usuario, turismo in turismo_tipos\n",
        "            if turismo == target]\n",
        "\n",
        "\n",
        "def most_popular_new_interests(user_interests, max_results=5):\n",
        "    recommendations = [\n",
        "        (interest, frequency)\n",
        "        for interest, frequency in popular_interests.items()\n",
        "\n",
        "        if interest not in user_interests\n",
        "                      ]\n",
        "    return sorted(recommendations[:max_results], key=lambda x: -x[1])\n",
        "\n",
        "\n",
        "def cosine_similarity(v, w):\n",
        "  \"\"\"\n",
        "      Compara dois usuários    \n",
        "  \"\"\"\n",
        "  return np.dot(v, w) / np.sqrt(np.dot(v, v) * np.dot(w, w))\n",
        "\n",
        "\n",
        "def make_user_vector(user_id):\n",
        "    \"\"\"\n",
        "      Criar vetor para um determinado usuário (usuário x interesse)\n",
        "\n",
        "      1 - Se o usuário tem\n",
        "      0 - Contrário\n",
        "\n",
        "    \"\"\"\n",
        "    return [1 if interest in interest_by_user_id[user_id]\n",
        "            else 0 for interest in unique_interest]\n",
        "\n",
        "\n",
        "def most_similar_users_to(user_id):\n",
        "    pairs = [(other_user_id, similarity)\n",
        "            for other_user_id, similarity in enumerate(users_sim_matrix[user_id])\n",
        "             if user_id != other_user_id and similarity > 0\n",
        "            ]\n",
        "    return sorted(pairs, key=lambda x: -x[1])\n",
        "\n",
        "\n",
        "def user_based_recommendations(user_id, include_current_interests=False):\n",
        "    \"\"\"\n",
        "        Gerar recomendação baseado nos usuários mais similares\n",
        "\n",
        "    \"\"\"\n",
        "    predictions = defaultdict(float)\n",
        "    for other_user_id, similarity in most_similar_users_to(user_id):\n",
        "      for interest in interest_by_user_id[other_user_id]:\n",
        "        # Para cada interesse soma-se a similaridade dos usuários mais proxímos\n",
        "        predictions[interest] += similarity\n",
        "        \n",
        "    # converte as recomendações em uma lista ordenada\n",
        "    predictions = sorted(predictions.items(), key=lambda x: -x[1])\n",
        "        \n",
        "    # caso deseje incluir interesses existentes include_current_interests=True\n",
        "    if include_current_interests:\n",
        "        return predictions\n",
        "     \n",
        "    else:\n",
        "        return [(prediction, score) \n",
        "            for prediction, score in predictions\n",
        "                if prediction not in interest_by_user_id[user_id]]\n",
        "\n",
        "\n",
        "def make_interest_vector(interest):\n",
        "    \"\"\"\n",
        "      Criar vetor para um determinado interesse (interesse x usuários)\n",
        "\n",
        "      1 - Se o interesse tem o usuário\n",
        "      0 - Contrário\n",
        "\n",
        "    \"\"\"\n",
        "    return [1 if interest in interest_by_user_id[user_id]\n",
        "            else 0 for user_id in interest_by_user_id.keys()]\n",
        "\n",
        "\n",
        "def most_similar_interests_to(interest_id):\n",
        "    # Imprimir interesses mais similares ao Big Data\n",
        "    # most_similar_interests_to(0)\n",
        "    \n",
        "    similarities = interests_sim_matrix[interest_id]\n",
        "    pairs = [(unique_interest[other_interest_id], similarity) \n",
        "            for other_interest_id, similarity in enumerate(similarities)\n",
        "            if interest_id != other_interest_id and similarity > 0]\n",
        "    return sorted(pairs, key=lambda x: -x[1])\n",
        "\n",
        "\n",
        "def item_based_suggestions(user_id, include_current_interests=False):\n",
        "    predictions = defaultdict(float)\n",
        "    user_vector = make_user_vector(user_id)\n",
        "    \n",
        "    for interest_id, is_interested in enumerate(user_vector):\n",
        "        if is_interested == 1:\n",
        "            similar_interests = most_similar_interests_to(interest_id)\n",
        "                        \n",
        "            for interest, similarity in similar_interests:\n",
        "                predictions[interest] += similarity\n",
        "\n",
        "     # converte as recomendações em uma lista ordenada\n",
        "    predictions = sorted(predictions.items(), key=lambda x: -x[1])\n",
        "\n",
        "    # caso deseje incluir interesses existentes include_current_interests=True\n",
        "    if include_current_interests:\n",
        "        return predictions\n",
        "\n",
        "    else:\n",
        "        return [(prediction, score) \n",
        "               for prediction, score in predictions\n",
        "               if prediction not in interest_by_user_id[user_id]]"
      ],
      "execution_count": 248,
      "outputs": []
    },
    {
      "cell_type": "markdown",
      "metadata": {
        "id": "1wGfOh23Wt0_",
        "colab_type": "text"
      },
      "source": [
        "Respostas mais frequentes."
      ]
    },
    {
      "cell_type": "code",
      "metadata": {
        "id": "ptx4g1jfbAM2",
        "colab_type": "code",
        "colab": {
          "base_uri": "https://localhost:8080/",
          "height": 329
        },
        "outputId": "1f274347-a299-4d3a-8476-0c05cf50c816"
      },
      "source": [
        "turismo_freq = interest_freq(turismo_tipos, 'turismo')\n",
        "\n",
        "hospedagem_freq = interest_freq(hospedagem_tipos, 'hospedagem')\n",
        "\n",
        "alimentacao_freq = interest_freq(alimentacao_tipos, 'alimentacao')"
      ],
      "execution_count": null,
      "outputs": [
        {
          "output_type": "stream",
          "text": [
            "\n",
            "Tipos de turismo\n",
            "praia 9\n",
            "histórico 2\n",
            "ecoturismo 2\n",
            "aventura 2\n",
            "\n",
            "Tipos de hospedagem\n",
            "pousada 4\n",
            "hotel 2\n",
            "airbnb 2\n",
            "casa_amigo 2\n",
            "\n",
            "Tipos de alimentacao\n",
            "pizza 3\n",
            "churrasco 2\n",
            "lanche 2\n",
            "frutos_do_mar 2\n"
          ],
          "name": "stdout"
        }
      ]
    },
    {
      "cell_type": "code",
      "metadata": {
        "id": "vVP-GNyPG7Na",
        "colab_type": "code",
        "colab": {}
      },
      "source": [
        "id_usuario_por_turismo = defaultdict(list)\n",
        "turismo_por_id_usuario = defaultdict(list)\n",
        "turismo_unico = set()\n",
        "\n",
        "for id_usuario, turismo in turismo_tipos:\n",
        "    id_usuario_por_turismo[turismo].append(id_usuario)\n",
        "    turismo_por_id_usuario[id_usuario].append(turismo)\n",
        "    turismo_unico.add(turismo)\n",
        "\n",
        "# Ordena em ordem alfabética\n",
        "turismo_unico = sorted(list(turismo_unico))\n"
      ],
      "execution_count": 241,
      "outputs": []
    },
    {
      "cell_type": "code",
      "metadata": {
        "id": "lKQoyq3caVWs",
        "colab_type": "code",
        "colab": {}
      },
      "source": [
        "\n"
      ],
      "execution_count": null,
      "outputs": []
    },
    {
      "cell_type": "code",
      "metadata": {
        "id": "TTnzyBrUHCMm",
        "colab_type": "code",
        "colab": {
          "base_uri": "https://localhost:8080/",
          "height": 34
        },
        "outputId": "c6494401-29cb-4883-85e2-b837a8718272"
      },
      "source": [
        "popular_turismo = Counter(turismo for user in usuarios \n",
        "                            for turismo in turismo_por_id_usuario[user['id']]) \n",
        "\n",
        "print(\"Recomendações para %s:: %s \" \n",
        "      % (users[0]['name'], most_popular_new_interests(turismo_por_id_usuario[0])))"
      ],
      "execution_count": 249,
      "outputs": [
        {
          "output_type": "stream",
          "text": [
            "Recomendações para João:: [('Praia', 9), ('Histórico', 2), ('Ecoturismo', 2), ('Aventura', 2)] \n"
          ],
          "name": "stdout"
        }
      ]
    },
    {
      "cell_type": "code",
      "metadata": {
        "id": "Xz7h7ljRHFYg",
        "colab_type": "code",
        "colab": {}
      },
      "source": [
        ""
      ],
      "execution_count": 224,
      "outputs": []
    },
    {
      "cell_type": "code",
      "metadata": {
        "id": "0DqInFUPH2JO",
        "colab_type": "code",
        "colab": {
          "base_uri": "https://localhost:8080/",
          "height": 34
        },
        "outputId": "7417cfde-193c-4dfc-ac91-e7acbc2ce793"
      },
      "source": [
        "# Criar matrix de interesses (usuários x interesses)\n",
        "users_matrix = [make_user_vector(user) for user in interest_by_user_id]\n",
        "\n",
        "# Criar matrix de similaridade\n",
        "users_sim_matrix = [[cosine_similarity(interest_vector_v, interest_vector_w) \n",
        "                     for interest_vector_w in users_matrix] \n",
        "                    for interest_vector_v in users_matrix]\n",
        "\n",
        "\n",
        "## Usuários mais similares ao João\n",
        "# most_similar_users_to(0)\n",
        "\n",
        "\n",
        "## Lista de interesses do João\n",
        "# print(interest_by_user_id[0])\n",
        "# Lista de recomendações para o João\n",
        "user_based_recommendations(0)"
      ],
      "execution_count": 225,
      "outputs": [
        {
          "output_type": "execute_result",
          "data": {
            "text/plain": [
              "[('Ecoturismo', 0.9082482904638631), ('Aventura', 0.9082482904638631)]"
            ]
          },
          "metadata": {
            "tags": []
          },
          "execution_count": 225
        }
      ]
    },
    {
      "cell_type": "code",
      "metadata": {
        "id": "UJAEtNlXH2GG",
        "colab_type": "code",
        "colab": {
          "base_uri": "https://localhost:8080/",
          "height": 34
        },
        "outputId": "b146f016-0605-4be9-dfe1-70e09a31b9ac"
      },
      "source": [
        "# Criar matrix de interesses (usuários x interesses)\n",
        "interests_matrix = [make_interest_vector(interest) for interest in unique_interest]\n",
        "\n",
        "\n",
        "# Criar matrix de similaridade\n",
        "users_sim_matrix = [[cosine_similarity(interest_vector_v, interest_vector_w) \n",
        "                     for interest_vector_w in users_matrix] \n",
        "                    for interest_vector_v in users_matrix]\n",
        "\n",
        "# Criar matrix de similaridade\n",
        "interests_sim_matrix = [[cosine_similarity(user_vector_v, user_vector_w) \n",
        "                     for user_vector_w in interests_matrix] \n",
        "                    for user_vector_v in interests_matrix]\n",
        "\n",
        "\n",
        "        \n",
        "\n",
        "## Lista de interesses do João\n",
        "# print(interest_by_user_id[0])\n",
        "# Lista de recomendações para o João\n",
        "item_based_suggestions(0)"
      ],
      "execution_count": 226,
      "outputs": [
        {
          "output_type": "execute_result",
          "data": {
            "text/plain": [
              "[('Aventura', 0.47140452079103173), ('Ecoturismo', 0.47140452079103173)]"
            ]
          },
          "metadata": {
            "tags": []
          },
          "execution_count": 226
        }
      ]
    },
    {
      "cell_type": "code",
      "metadata": {
        "id": "QyoIkD-UH2DT",
        "colab_type": "code",
        "colab": {}
      },
      "source": [
        ""
      ],
      "execution_count": null,
      "outputs": []
    }
  ]
}