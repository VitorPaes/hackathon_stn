{
  "nbformat": 4,
  "nbformat_minor": 0,
  "metadata": {
    "colab": {
      "name": "Hackathon_std.ipynb",
      "provenance": [],
      "collapsed_sections": [],
      "authorship_tag": "ABX9TyOCvW+14XnE8E+U8HZMScva",
      "include_colab_link": true
    },
    "kernelspec": {
      "name": "python3",
      "display_name": "Python 3"
    }
  },
  "cells": [
    {
      "cell_type": "markdown",
      "metadata": {
        "id": "view-in-github",
        "colab_type": "text"
      },
      "source": [
        "<a href=\"https://colab.research.google.com/github/VitorPaes/hackathon_stn/blob/master/Hackathon_std.ipynb\" target=\"_parent\"><img src=\"https://colab.research.google.com/assets/colab-badge.svg\" alt=\"Open In Colab\"/></a>"
      ]
    },
    {
      "cell_type": "markdown",
      "metadata": {
        "id": "6MpGQgycZ-RO",
        "colab_type": "text"
      },
      "source": [
        "# Bases"
      ]
    },
    {
      "cell_type": "markdown",
      "metadata": {
        "id": "Fh8GCcnBYzu_",
        "colab_type": "text"
      },
      "source": [
        "\n",
        "## Planilha com estatísticas básicas de turismo\n"
      ]
    },
    {
      "cell_type": "code",
      "metadata": {
        "id": "jqAg0s7us-9e",
        "colab_type": "code",
        "colab": {}
      },
      "source": [
        "url = 'http://dadosefatos.turismo.gov.br/images/demanda/Estatisticas_Basicas_2017_2018.xlsx'\n",
        "\n",
        "import pandas as pd\n",
        "\n",
        "DF_list = pd.read_excel(url, None)\n",
        "\n",
        "df = DF_list['5.2 Oferta hoteleira'].iloc[6:39, 0:10]\n",
        "df.columns = [\"Local\",\"MeioHospedagem_2016\",\"UnidHab_2016\",\"Leitos_2016\",\n",
        "              \"MeioHospedagem_2017\",\"UnidHab_2017\",\"Leitos_2017\",\n",
        "              \"MeioHospedagem_2018\",\"UnidHab_2018\",\"Leitos_2018\"]\n",
        "\n",
        "for col in list(df.columns):\n",
        "  try:\n",
        "    df[col] = df[col].str.strip()\n",
        "  except:\n",
        "    pass\n",
        "\n",
        "df[\"GeoClass\"] = \"Estado\"\n",
        "df[\"GeoClass\"].iloc[0] = \"País\"\n",
        "df[\"GeoClass\"].loc[df[\"Local\"].isin([\"Norte\", \"Nordeste\", \"Sudeste\",\n",
        "                                     \"Sul\", \"Centro-Oeste\"])] = \"Região\"\n"
      ],
      "execution_count": 1,
      "outputs": []
    },
    {
      "cell_type": "markdown",
      "metadata": {
        "id": "5ZldK5FE51uo",
        "colab_type": "text"
      },
      "source": [
        "## Selo turismo responsável \n",
        "O selo Turismo responsável é uma certificação concedida pelo Governo Federal aos empreendimentos que seguem os protocolos estabelecidos para prevenção da COVID-19."
      ]
    },
    {
      "cell_type": "code",
      "metadata": {
        "id": "ielxJxNvtbTl",
        "colab_type": "code",
        "colab": {
          "base_uri": "https://localhost:8080/",
          "height": 502
        },
        "outputId": "556d65af-cee6-4397-8bcf-6d8cd94fe748"
      },
      "source": [
        "url = 'http://www.turismo.gov.br/seloresponsavel/dados/TurismoResponsavelDadosAbertos.csv'  # Turismo responsavel pos-covid\n",
        "df = pd.read_csv(url, header=5, sep=\";\")\n",
        "df[\"UF\"].value_counts()\n"
      ],
      "execution_count": 2,
      "outputs": [
        {
          "output_type": "execute_result",
          "data": {
            "text/plain": [
              "São Paulo              2836\n",
              "Rio de Janeiro         1802\n",
              "Minas Gerais           1055\n",
              "Bahia                   869\n",
              "Rio Grande do Sul       652\n",
              "Santa Catarina          581\n",
              "Paraná                  571\n",
              "Rio Grande do Norte     553\n",
              "Pernambuco              504\n",
              "Ceará                   451\n",
              "Alagoas                 445\n",
              "Maranhão                294\n",
              "Espírito Santo          224\n",
              "Goiás                   216\n",
              "Pará                    159\n",
              "Paraíba                 140\n",
              "Mato Grosso do Sul      138\n",
              "Distrito Federal        137\n",
              "Amazonas                128\n",
              "Mato Grosso             116\n",
              "Sergipe                 108\n",
              "Piauí                    93\n",
              "Tocantins                47\n",
              "Rondônia                 29\n",
              "Roraima                  15\n",
              "Amapá                     8\n",
              "Acre                      4\n",
              "Name: UF, dtype: int64"
            ]
          },
          "metadata": {
            "tags": []
          },
          "execution_count": 2
        }
      ]
    },
    {
      "cell_type": "code",
      "metadata": {
        "id": "aQLfgkmUwlA-",
        "colab_type": "code",
        "colab": {
          "base_uri": "https://localhost:8080/",
          "height": 294
        },
        "outputId": "f9d3dcb2-1ea1-4aa1-873f-dc856be38d08"
      },
      "source": [
        "df[\"Atividade\"].value_counts()"
      ],
      "execution_count": 3,
      "outputs": [
        {
          "output_type": "execute_result",
          "data": {
            "text/plain": [
              "Agência de Turismo                                                  4401\n",
              "Meio de Hospedagem                                                  3636\n",
              "Transportadora Turística                                            1469\n",
              "Restaurante, Cafeteria, Bar e Similares                              843\n",
              "Prestador Especializado em Segmentos Turísticos                      591\n",
              "Organizadora de Eventos                                              450\n",
              "Guia de Turismo                                                      271\n",
              "Prestador de Infraestrutura de Apoio para Eventos                    142\n",
              "Locadora de Veículos para Turistas                                   135\n",
              "Parque Aquático e Empreendimento de Lazer                             67\n",
              "Acampamento Turístico                                                 45\n",
              "Parque Temático                                                       44\n",
              "Empreendimento de Apoio ao Turismo Náutico ou à Pesca Desportiva      31\n",
              "Centro de Convenções                                                  27\n",
              "Casa de Espetáculos e Equipamento de Animação Turística               23\n",
              "Name: Atividade, dtype: int64"
            ]
          },
          "metadata": {
            "tags": []
          },
          "execution_count": 3
        }
      ]
    },
    {
      "cell_type": "code",
      "metadata": {
        "id": "mQgfPyfZwk9b",
        "colab_type": "code",
        "colab": {
          "base_uri": "https://localhost:8080/",
          "height": 242
        },
        "outputId": "d5156e63-2305-4b2c-f0cb-bba86b82f67b"
      },
      "source": [
        "df.groupby(by=[\"UF\", \"Atividade\"]).count().iloc[:,0]"
      ],
      "execution_count": 4,
      "outputs": [
        {
          "output_type": "execute_result",
          "data": {
            "text/plain": [
              "UF         Atividade                                              \n",
              "Acre       Agência de Turismo                                           2\n",
              "           Restaurante, Cafeteria, Bar e Similares                      2\n",
              "Alagoas    Acampamento Turístico                                        1\n",
              "           Agência de Turismo                                         108\n",
              "           Casa de Espetáculos e Equipamento de Animação Turística      1\n",
              "                                                                     ... \n",
              "Tocantins  Organizadora de Eventos                                      1\n",
              "           Prestador Especializado em Segmentos Turísticos              3\n",
              "           Prestador de Infraestrutura de Apoio para Eventos            1\n",
              "           Restaurante, Cafeteria, Bar e Similares                      2\n",
              "           Transportadora Turística                                     2\n",
              "Name: Município, Length: 295, dtype: int64"
            ]
          },
          "metadata": {
            "tags": []
          },
          "execution_count": 4
        }
      ]
    },
    {
      "cell_type": "code",
      "metadata": {
        "id": "tW-uS5JaxZU0",
        "colab_type": "code",
        "colab": {
          "base_uri": "https://localhost:8080/",
          "height": 729
        },
        "outputId": "189358d8-c284-46fa-cecd-58028d319c6d"
      },
      "source": [
        "import matplotlib.pyplot as plt\n",
        "\n",
        "\n",
        "fig, axs = plt.subplots(2, 2, figsize=(20,10))\n",
        "col = \"UF\"\n",
        "df[col].value_counts().nlargest(10).plot.barh(x=col,\n",
        "                                          legend=False,\n",
        "                                          ax=axs[0,0],\n",
        "                                          title='Top 10 - '+col)\n",
        "\n",
        "\n",
        "col = \"Atividade\"\n",
        "df[col].value_counts().nlargest(10).plot.barh(x=col,\n",
        "                                          legend=False,\n",
        "                                          ax=axs[0,1],\n",
        "                                          title='Top 10 - '+col+\" - Brasil\")\n",
        "\n",
        "df.groupby(by=[\"UF\", col]).count().iloc[:,0].loc['Alagoas'].nlargest(10).plot.barh(x=col,\n",
        "                                          legend=False,\n",
        "                                          ax=axs[1,1],\n",
        "                                          title='Top 10 - '+col+\" - Alagoas\")\n",
        "\n",
        "col = \"Município\"\n",
        "df.groupby(by=[\"UF\", col]).count().iloc[:,0].loc['Alagoas'].nlargest(10).plot.barh(x=col,\n",
        "                                          legend=False,\n",
        "                                          ax=axs[1,0],\n",
        "                                          title='Top 10 - '+col+\" - Alagoas\")\n",
        "\n",
        "\n",
        "axs[0,0].invert_yaxis()\n",
        "axs[0,1].invert_yaxis()\n",
        "axs[1,0].invert_yaxis()\n",
        "axs[1,1].invert_yaxis()\n",
        "\n",
        "fig.tight_layout()"
      ],
      "execution_count": 5,
      "outputs": [
        {
          "output_type": "display_data",
          "data": {
            "image/png": "[encoded data removed]",
            "text/plain": [
              "<Figure size 1440x720 with 4 Axes>"
            ]
          },
          "metadata": {
            "tags": [],
            "needs_background": "light"
          }
        }
      ]
    },
    {
      "cell_type": "code",
      "metadata": {
        "id": "8IMvxrBLxQ9Z",
        "colab_type": "code",
        "colab": {
          "base_uri": "https://localhost:8080/",
          "height": 69
        },
        "outputId": "dbbbfaad-52af-49d0-a6ba-d155edc25913"
      },
      "source": [
        "# Dashboards\n",
        "!pip install plotly==4.9.0\n",
        "\n",
        "# Static figures to show on GitHub\n",
        "# !pip install kaleido==0.0.1\n",
        "# !pip install psutil==5.7.2"
      ],
      "execution_count": 6,
      "outputs": [
        {
          "output_type": "stream",
          "text": [
            "Requirement already satisfied: plotly==4.9.0 in /usr/local/lib/python3.6/dist-packages (4.9.0)\n",
            "Requirement already satisfied: retrying>=1.3.3 in /usr/local/lib/python3.6/dist-packages (from plotly==4.9.0) (1.3.3)\n",
            "Requirement already satisfied: six in /usr/local/lib/python3.6/dist-packages (from plotly==4.9.0) (1.15.0)\n"
          ],
          "name": "stdout"
        }
      ]
    },
    {
      "cell_type": "code",
      "metadata": {
        "id": "sKGyLPVLwk6w",
        "colab_type": "code",
        "colab": {
          "base_uri": "https://localhost:8080/",
          "height": 542
        },
        "outputId": "f2d99c84-3dc8-4b96-9318-5bc4a75a1ca7"
      },
      "source": [
        "import plotly.express as px\n",
        "fig = px.treemap(df, path=['UF'], \n",
        "                 color_continuous_scale='RdBu',\n",
        "                 title='Empresas com Selo Turismo Responsável por UF')\n",
        "fig.show()\n",
        "# fig.show('png', scale=1.25)  # static"
      ],
      "execution_count": 7,
      "outputs": [
        {
          "output_type": "display_data",
          "data": {
            "text/html": [
              "<html>\n",
              "<head><meta charset=\"utf-8\" /></head>\n",
              "<body>\n",
              "    <div>\n",
              "            <script src=\"https://cdnjs.cloudflare.com/ajax/libs/mathjax/2.7.5/MathJax.js?config=TeX-AMS-MML_SVG\"></script><script type=\"text/javascript\">if (window.MathJax) {MathJax.Hub.Config({SVG: {font: \"STIX-Web\"}});}</script>\n",
              "                <script type=\"text/javascript\">window.PlotlyConfig = {MathJaxConfig: 'local'};</script>\n",
              "        <script src=\"https://cdn.plot.ly/plotly-latest.min.js\"></script>    \n",
              "            <div id=\"e9c980d1-fbd8-494e-a657-7d9e8fe146a7\" class=\"plotly-graph-div\" style=\"height:525px; width:100%;\"></div>\n",
              "            <script type=\"text/javascript\">\n",
              "                \n",
              "                    window.PLOTLYENV=window.PLOTLYENV || {};\n",
              "                    \n",
              "                if (document.getElementById(\"e9c980d1-fbd8-494e-a657-7d9e8fe146a7\")) {\n",
              "                    Plotly.newPlot(\n",
              "                        'e9c980d1-fbd8-494e-a657-7d9e8fe146a7',\n",
              "                        [{\"branchvalues\": \"total\", \"domain\": {\"x\": [0.0, 1.0], \"y\": [0.0, 1.0]}, \"hovertemplate\": \"labels=%{label}<br>count=%{value}<br>parent=%{parent}<br>id=%{id}<extra></extra>\", \"ids\": [\"Acre\", \"Alagoas\", \"Amap\\u00e1\", \"Amazonas\", \"Bahia\", \"Cear\\u00e1\", \"Distrito Federal\", \"Esp\\u00edrito Santo\", \"Goi\\u00e1s\", \"Maranh\\u00e3o\", \"Mato Grosso\", \"Mato Grosso do Sul\", \"Minas Gerais\", \"Paran\\u00e1\", \"Para\\u00edba\", \"Par\\u00e1\", \"Pernambuco\", \"Piau\\u00ed\", \"Rio Grande do Norte\", \"Rio Grande do Sul\", \"Rio de Janeiro\", \"Rond\\u00f4nia\", \"Roraima\", \"Santa Catarina\", \"Sergipe\", \"S\\u00e3o Paulo\", \"Tocantins\"], \"labels\": [\"Acre\", \"Alagoas\", \"Amap\\u00e1\", \"Amazonas\", \"Bahia\", \"Cear\\u00e1\", \"Distrito Federal\", \"Esp\\u00edrito Santo\", \"Goi\\u00e1s\", \"Maranh\\u00e3o\", \"Mato Grosso\", \"Mato Grosso do Sul\", \"Minas Gerais\", \"Paran\\u00e1\", \"Para\\u00edba\", \"Par\\u00e1\", \"Pernambuco\", \"Piau\\u00ed\", \"Rio Grande do Norte\", \"Rio Grande do Sul\", \"Rio de Janeiro\", \"Rond\\u00f4nia\", \"Roraima\", \"Santa Catarina\", \"Sergipe\", \"S\\u00e3o Paulo\", \"Tocantins\"], \"name\": \"\", \"parents\": [\"\", \"\", \"\", \"\", \"\", \"\", \"\", \"\", \"\", \"\", \"\", \"\", \"\", \"\", \"\", \"\", \"\", \"\", \"\", \"\", \"\", \"\", \"\", \"\", \"\", \"\", \"\"], \"type\": \"treemap\", \"values\": [4, 445, 8, 128, 869, 451, 137, 224, 216, 294, 116, 138, 1055, 571, 140, 159, 504, 93, 553, 652, 1802, 29, 15, 581, 108, 2836, 47]}],\n",
              "                        {\"legend\": {\"tracegroupgap\": 0}, \"template\": {\"data\": {\"bar\": [{\"error_x\": {\"color\": \"#2a3f5f\"}, \"error_y\": {\"color\": \"#2a3f5f\"}, \"marker\": {\"line\": {\"color\": \"#E5ECF6\", \"width\": 0.5}}, \"type\": \"bar\"}], \"barpolar\": [{\"marker\": {\"line\": {\"color\": \"#E5ECF6\", \"width\": 0.5}}, \"type\": \"barpolar\"}], \"carpet\": [{\"aaxis\": {\"endlinecolor\": \"#2a3f5f\", \"gridcolor\": \"white\", \"linecolor\": \"white\", \"minorgridcolor\": \"white\", \"startlinecolor\": \"#2a3f5f\"}, \"baxis\": {\"endlinecolor\": \"#2a3f5f\", \"gridcolor\": \"white\", \"linecolor\": \"white\", \"minorgridcolor\": \"white\", \"startlinecolor\": \"#2a3f5f\"}, \"type\": \"carpet\"}], \"choropleth\": [{\"colorbar\": {\"outlinewidth\": 0, \"ticks\": \"\"}, \"type\": \"choropleth\"}], \"contour\": [{\"colorbar\": {\"outlinewidth\": 0, \"ticks\": \"\"}, \"colorscale\": [[0.0, \"#0d0887\"], [0.1111111111111111, \"#46039f\"], [0.2222222222222222, \"#7201a8\"], [0.3333333333333333, \"#9c179e\"], [0.4444444444444444, \"#bd3786\"], [0.5555555555555556, \"#d8576b\"], [0.6666666666666666, \"#ed7953\"], [0.7777777777777778, \"#fb9f3a\"], [0.8888888888888888, \"#fdca26\"], [1.0, \"#f0f921\"]], \"type\": \"contour\"}], \"contourcarpet\": [{\"colorbar\": {\"outlinewidth\": 0, \"ticks\": \"\"}, \"type\": \"contourcarpet\"}], \"heatmap\": [{\"colorbar\": {\"outlinewidth\": 0, \"ticks\": \"\"}, \"colorscale\": [[0.0, \"#0d0887\"], [0.1111111111111111, \"#46039f\"], [0.2222222222222222, \"#7201a8\"], [0.3333333333333333, \"#9c179e\"], [0.4444444444444444, \"#bd3786\"], [0.5555555555555556, \"#d8576b\"], [0.6666666666666666, \"#ed7953\"], [0.7777777777777778, \"#fb9f3a\"], [0.8888888888888888, \"#fdca26\"], [1.0, \"#f0f921\"]], \"type\": \"heatmap\"}], \"heatmapgl\": [{\"colorbar\": {\"outlinewidth\": 0, \"ticks\": \"\"}, \"colorscale\": [[0.0, \"#0d0887\"], [0.1111111111111111, \"#46039f\"], [0.2222222222222222, \"#7201a8\"], [0.3333333333333333, \"#9c179e\"], [0.4444444444444444, \"#bd3786\"], [0.5555555555555556, \"#d8576b\"], [0.6666666666666666, \"#ed7953\"], [0.7777777777777778, \"#fb9f3a\"], [0.8888888888888888, \"#fdca26\"], [1.0, \"#f0f921\"]], \"type\": \"heatmapgl\"}], \"histogram\": [{\"marker\": {\"colorbar\": {\"outlinewidth\": 0, \"ticks\": \"\"}}, \"type\": \"histogram\"}], \"histogram2d\": [{\"colorbar\": {\"outlinewidth\": 0, \"ticks\": \"\"}, \"colorscale\": [[0.0, \"#0d0887\"], [0.1111111111111111, \"#46039f\"], [0.2222222222222222, \"#7201a8\"], [0.3333333333333333, \"#9c179e\"], [0.4444444444444444, \"#bd3786\"], [0.5555555555555556, \"#d8576b\"], [0.6666666666666666, \"#ed7953\"], [0.7777777777777778, \"#fb9f3a\"], [0.8888888888888888, \"#fdca26\"], [1.0, \"#f0f921\"]], \"type\": \"histogram2d\"}], \"histogram2dcontour\": [{\"colorbar\": {\"outlinewidth\": 0, \"ticks\": \"\"}, \"colorscale\": [[0.0, \"#0d0887\"], [0.1111111111111111, \"#46039f\"], [0.2222222222222222, \"#7201a8\"], [0.3333333333333333, \"#9c179e\"], [0.4444444444444444, \"#bd3786\"], [0.5555555555555556, \"#d8576b\"], [0.6666666666666666, \"#ed7953\"], [0.7777777777777778, \"#fb9f3a\"], [0.8888888888888888, \"#fdca26\"], [1.0, \"#f0f921\"]], \"type\": \"histogram2dcontour\"}], \"mesh3d\": [{\"colorbar\": {\"outlinewidth\": 0, \"ticks\": \"\"}, \"type\": \"mesh3d\"}], \"parcoords\": [{\"line\": {\"colorbar\": {\"outlinewidth\": 0, \"ticks\": \"\"}}, \"type\": \"parcoords\"}], \"pie\": [{\"automargin\": true, \"type\": \"pie\"}], \"scatter\": [{\"marker\": {\"colorbar\": {\"outlinewidth\": 0, \"ticks\": \"\"}}, \"type\": \"scatter\"}], \"scatter3d\": [{\"line\": {\"colorbar\": {\"outlinewidth\": 0, \"ticks\": \"\"}}, \"marker\": {\"colorbar\": {\"outlinewidth\": 0, \"ticks\": \"\"}}, \"type\": \"scatter3d\"}], \"scattercarpet\": [{\"marker\": {\"colorbar\": {\"outlinewidth\": 0, \"ticks\": \"\"}}, \"type\": \"scattercarpet\"}], \"scattergeo\": [{\"marker\": {\"colorbar\": {\"outlinewidth\": 0, \"ticks\": \"\"}}, \"type\": \"scattergeo\"}], \"scattergl\": [{\"marker\": {\"colorbar\": {\"outlinewidth\": 0, \"ticks\": \"\"}}, \"type\": \"scattergl\"}], \"scattermapbox\": [{\"marker\": {\"colorbar\": {\"outlinewidth\": 0, \"ticks\": \"\"}}, \"type\": \"scattermapbox\"}], \"scatterpolar\": [{\"marker\": {\"colorbar\": {\"outlinewidth\": 0, \"ticks\": \"\"}}, \"type\": \"scatterpolar\"}], \"scatterpolargl\": [{\"marker\": {\"colorbar\": {\"outlinewidth\": 0, \"ticks\": \"\"}}, \"type\": \"scatterpolargl\"}], \"scatterternary\": [{\"marker\": {\"colorbar\": {\"outlinewidth\": 0, \"ticks\": \"\"}}, \"type\": \"scatterternary\"}], \"surface\": [{\"colorbar\": {\"outlinewidth\": 0, \"ticks\": \"\"}, \"colorscale\": [[0.0, \"#0d0887\"], [0.1111111111111111, \"#46039f\"], [0.2222222222222222, \"#7201a8\"], [0.3333333333333333, \"#9c179e\"], [0.4444444444444444, \"#bd3786\"], [0.5555555555555556, \"#d8576b\"], [0.6666666666666666, \"#ed7953\"], [0.7777777777777778, \"#fb9f3a\"], [0.8888888888888888, \"#fdca26\"], [1.0, \"#f0f921\"]], \"type\": \"surface\"}], \"table\": [{\"cells\": {\"fill\": {\"color\": \"#EBF0F8\"}, \"line\": {\"color\": \"white\"}}, \"header\": {\"fill\": {\"color\": \"#C8D4E3\"}, \"line\": {\"color\": \"white\"}}, \"type\": \"table\"}]}, \"layout\": {\"annotationdefaults\": {\"arrowcolor\": \"#2a3f5f\", \"arrowhead\": 0, \"arrowwidth\": 1}, \"coloraxis\": {\"colorbar\": {\"outlinewidth\": 0, \"ticks\": \"\"}}, \"colorscale\": {\"diverging\": [[0, \"#8e0152\"], [0.1, \"#c51b7d\"], [0.2, \"#de77ae\"], [0.3, \"#f1b6da\"], [0.4, \"#fde0ef\"], [0.5, \"#f7f7f7\"], [0.6, \"#e6f5d0\"], [0.7, \"#b8e186\"], [0.8, \"#7fbc41\"], [0.9, \"#4d9221\"], [1, \"#276419\"]], \"sequential\": [[0.0, \"#0d0887\"], [0.1111111111111111, \"#46039f\"], [0.2222222222222222, \"#7201a8\"], [0.3333333333333333, \"#9c179e\"], [0.4444444444444444, \"#bd3786\"], [0.5555555555555556, \"#d8576b\"], [0.6666666666666666, \"#ed7953\"], [0.7777777777777778, \"#fb9f3a\"], [0.8888888888888888, \"#fdca26\"], [1.0, \"#f0f921\"]], \"sequentialminus\": [[0.0, \"#0d0887\"], [0.1111111111111111, \"#46039f\"], [0.2222222222222222, \"#7201a8\"], [0.3333333333333333, \"#9c179e\"], [0.4444444444444444, \"#bd3786\"], [0.5555555555555556, \"#d8576b\"], [0.6666666666666666, \"#ed7953\"], [0.7777777777777778, \"#fb9f3a\"], [0.8888888888888888, \"#fdca26\"], [1.0, \"#f0f921\"]]}, \"colorway\": [\"#636efa\", \"#EF553B\", \"#00cc96\", \"#ab63fa\", \"#FFA15A\", \"#19d3f3\", \"#FF6692\", \"#B6E880\", \"#FF97FF\", \"#FECB52\"], \"font\": {\"color\": \"#2a3f5f\"}, \"geo\": {\"bgcolor\": \"white\", \"lakecolor\": \"white\", \"landcolor\": \"#E5ECF6\", \"showlakes\": true, \"showland\": true, \"subunitcolor\": \"white\"}, \"hoverlabel\": {\"align\": \"left\"}, \"hovermode\": \"closest\", \"mapbox\": {\"style\": \"light\"}, \"paper_bgcolor\": \"white\", \"plot_bgcolor\": \"#E5ECF6\", \"polar\": {\"angularaxis\": {\"gridcolor\": \"white\", \"linecolor\": \"white\", \"ticks\": \"\"}, \"bgcolor\": \"#E5ECF6\", \"radialaxis\": {\"gridcolor\": \"white\", \"linecolor\": \"white\", \"ticks\": \"\"}}, \"scene\": {\"xaxis\": {\"backgroundcolor\": \"#E5ECF6\", \"gridcolor\": \"white\", \"gridwidth\": 2, \"linecolor\": \"white\", \"showbackground\": true, \"ticks\": \"\", \"zerolinecolor\": \"white\"}, \"yaxis\": {\"backgroundcolor\": \"#E5ECF6\", \"gridcolor\": \"white\", \"gridwidth\": 2, \"linecolor\": \"white\", \"showbackground\": true, \"ticks\": \"\", \"zerolinecolor\": \"white\"}, \"zaxis\": {\"backgroundcolor\": \"#E5ECF6\", \"gridcolor\": \"white\", \"gridwidth\": 2, \"linecolor\": \"white\", \"showbackground\": true, \"ticks\": \"\", \"zerolinecolor\": \"white\"}}, \"shapedefaults\": {\"line\": {\"color\": \"#2a3f5f\"}}, \"ternary\": {\"aaxis\": {\"gridcolor\": \"white\", \"linecolor\": \"white\", \"ticks\": \"\"}, \"baxis\": {\"gridcolor\": \"white\", \"linecolor\": \"white\", \"ticks\": \"\"}, \"bgcolor\": \"#E5ECF6\", \"caxis\": {\"gridcolor\": \"white\", \"linecolor\": \"white\", \"ticks\": \"\"}}, \"title\": {\"x\": 0.05}, \"xaxis\": {\"automargin\": true, \"gridcolor\": \"white\", \"linecolor\": \"white\", \"ticks\": \"\", \"title\": {\"standoff\": 15}, \"zerolinecolor\": \"white\", \"zerolinewidth\": 2}, \"yaxis\": {\"automargin\": true, \"gridcolor\": \"white\", \"linecolor\": \"white\", \"ticks\": \"\", \"title\": {\"standoff\": 15}, \"zerolinecolor\": \"white\", \"zerolinewidth\": 2}}}, \"title\": {\"text\": \"Empresas com Selo Turismo Respons\\u00e1vel por UF\"}},\n",
              "                        {\"responsive\": true}\n",
              "                    ).then(function(){\n",
              "                            \n",
              "var gd = document.getElementById('e9c980d1-fbd8-494e-a657-7d9e8fe146a7');\n",
              "var x = new MutationObserver(function (mutations, observer) {{\n",
              "        var display = window.getComputedStyle(gd).display;\n",
              "        if (!display || display === 'none') {{\n",
              "            console.log([gd, 'removed!']);\n",
              "            Plotly.purge(gd);\n",
              "            observer.disconnect();\n",
              "        }}\n",
              "}});\n",
              "\n",
              "// Listen for the removal of the full notebook cells\n",
              "var notebookContainer = gd.closest('#notebook-container');\n",
              "if (notebookContainer) {{\n",
              "    x.observe(notebookContainer, {childList: true});\n",
              "}}\n",
              "\n",
              "// Listen for the clearing of the current output cell\n",
              "var outputEl = gd.closest('.output');\n",
              "if (outputEl) {{\n",
              "    x.observe(outputEl, {childList: true});\n",
              "}}\n",
              "\n",
              "                        })\n",
              "                };\n",
              "                \n",
              "            </script>\n",
              "        </div>\n",
              "</body>\n",
              "</html>"
            ]
          },
          "metadata": {
            "tags": []
          }
        }
      ]
    },
    {
      "cell_type": "code",
      "metadata": {
        "id": "d2nut2KXx6eU",
        "colab_type": "code",
        "colab": {
          "base_uri": "https://localhost:8080/",
          "height": 542
        },
        "outputId": "cf7de877-354c-402b-cabd-5c1b8edd9bd0"
      },
      "source": [
        "fig = px.treemap(df, path=['Atividade'], \n",
        "                 color_continuous_scale='RdBu',\n",
        "                 title='Empresas com Selo Turismo Responsável por Atividade')\n",
        "fig.show()"
      ],
      "execution_count": 8,
      "outputs": [
        {
          "output_type": "display_data",
          "data": {
            "text/html": [
              "<html>\n",
              "<head><meta charset=\"utf-8\" /></head>\n",
              "<body>\n",
              "    <div>\n",
              "            <script src=\"https://cdnjs.cloudflare.com/ajax/libs/mathjax/2.7.5/MathJax.js?config=TeX-AMS-MML_SVG\"></script><script type=\"text/javascript\">if (window.MathJax) {MathJax.Hub.Config({SVG: {font: \"STIX-Web\"}});}</script>\n",
              "                <script type=\"text/javascript\">window.PlotlyConfig = {MathJaxConfig: 'local'};</script>\n",
              "        <script src=\"https://cdn.plot.ly/plotly-latest.min.js\"></script>    \n",
              "            <div id=\"a9256be4-dfc7-414c-a38f-029730bf1b53\" class=\"plotly-graph-div\" style=\"height:525px; width:100%;\"></div>\n",
              "            <script type=\"text/javascript\">\n",
              "                \n",
              "                    window.PLOTLYENV=window.PLOTLYENV || {};\n",
              "                    \n",
              "                if (document.getElementById(\"a9256be4-dfc7-414c-a38f-029730bf1b53\")) {\n",
              "                    Plotly.newPlot(\n",
              "                        'a9256be4-dfc7-414c-a38f-029730bf1b53',\n",
              "                        [{\"branchvalues\": \"total\", \"domain\": {\"x\": [0.0, 1.0], \"y\": [0.0, 1.0]}, \"hovertemplate\": \"labels=%{label}<br>count=%{value}<br>parent=%{parent}<br>id=%{id}<extra></extra>\", \"ids\": [\"Acampamento Tur\\u00edstico\", \"Ag\\u00eancia de Turismo\", \"Casa de Espet\\u00e1culos e Equipamento de Anima\\u00e7\\u00e3o Tur\\u00edstica\", \"Centro de Conven\\u00e7\\u00f5es\", \"Empreendimento de Apoio ao Turismo N\\u00e1utico ou \\u00e0 Pesca Desportiva\", \"Guia de Turismo\", \"Locadora de Ve\\u00edculos para Turistas\", \"Meio de Hospedagem\", \"Organizadora de Eventos\", \"Parque Aqu\\u00e1tico e Empreendimento de Lazer\", \"Parque Tem\\u00e1tico\", \"Prestador Especializado em Segmentos Tur\\u00edsticos\", \"Prestador de Infraestrutura de Apoio para Eventos\", \"Restaurante, Cafeteria, Bar e Similares\", \"Transportadora Tur\\u00edstica\"], \"labels\": [\"Acampamento Tur\\u00edstico\", \"Ag\\u00eancia de Turismo\", \"Casa de Espet\\u00e1culos e Equipamento de Anima\\u00e7\\u00e3o Tur\\u00edstica\", \"Centro de Conven\\u00e7\\u00f5es\", \"Empreendimento de Apoio ao Turismo N\\u00e1utico ou \\u00e0 Pesca Desportiva\", \"Guia de Turismo\", \"Locadora de Ve\\u00edculos para Turistas\", \"Meio de Hospedagem\", \"Organizadora de Eventos\", \"Parque Aqu\\u00e1tico e Empreendimento de Lazer\", \"Parque Tem\\u00e1tico\", \"Prestador Especializado em Segmentos Tur\\u00edsticos\", \"Prestador de Infraestrutura de Apoio para Eventos\", \"Restaurante, Cafeteria, Bar e Similares\", \"Transportadora Tur\\u00edstica\"], \"name\": \"\", \"parents\": [\"\", \"\", \"\", \"\", \"\", \"\", \"\", \"\", \"\", \"\", \"\", \"\", \"\", \"\", \"\"], \"type\": \"treemap\", \"values\": [45, 4401, 23, 27, 31, 271, 135, 3636, 450, 67, 44, 591, 142, 843, 1469]}],\n",
              "                        {\"legend\": {\"tracegroupgap\": 0}, \"template\": {\"data\": {\"bar\": [{\"error_x\": {\"color\": \"#2a3f5f\"}, \"error_y\": {\"color\": \"#2a3f5f\"}, \"marker\": {\"line\": {\"color\": \"#E5ECF6\", \"width\": 0.5}}, \"type\": \"bar\"}], \"barpolar\": [{\"marker\": {\"line\": {\"color\": \"#E5ECF6\", \"width\": 0.5}}, \"type\": \"barpolar\"}], \"carpet\": [{\"aaxis\": {\"endlinecolor\": \"#2a3f5f\", \"gridcolor\": \"white\", \"linecolor\": \"white\", \"minorgridcolor\": \"white\", \"startlinecolor\": \"#2a3f5f\"}, \"baxis\": {\"endlinecolor\": \"#2a3f5f\", \"gridcolor\": \"white\", \"linecolor\": \"white\", \"minorgridcolor\": \"white\", \"startlinecolor\": \"#2a3f5f\"}, \"type\": \"carpet\"}], \"choropleth\": [{\"colorbar\": {\"outlinewidth\": 0, \"ticks\": \"\"}, \"type\": \"choropleth\"}], \"contour\": [{\"colorbar\": {\"outlinewidth\": 0, \"ticks\": \"\"}, \"colorscale\": [[0.0, \"#0d0887\"], [0.1111111111111111, \"#46039f\"], [0.2222222222222222, \"#7201a8\"], [0.3333333333333333, \"#9c179e\"], [0.4444444444444444, \"#bd3786\"], [0.5555555555555556, \"#d8576b\"], [0.6666666666666666, \"#ed7953\"], [0.7777777777777778, \"#fb9f3a\"], [0.8888888888888888, \"#fdca26\"], [1.0, \"#f0f921\"]], \"type\": \"contour\"}], \"contourcarpet\": [{\"colorbar\": {\"outlinewidth\": 0, \"ticks\": \"\"}, \"type\": \"contourcarpet\"}], \"heatmap\": [{\"colorbar\": {\"outlinewidth\": 0, \"ticks\": \"\"}, \"colorscale\": [[0.0, \"#0d0887\"], [0.1111111111111111, \"#46039f\"], [0.2222222222222222, \"#7201a8\"], [0.3333333333333333, \"#9c179e\"], [0.4444444444444444, \"#bd3786\"], [0.5555555555555556, \"#d8576b\"], [0.6666666666666666, \"#ed7953\"], [0.7777777777777778, \"#fb9f3a\"], [0.8888888888888888, \"#fdca26\"], [1.0, \"#f0f921\"]], \"type\": \"heatmap\"}], \"heatmapgl\": [{\"colorbar\": {\"outlinewidth\": 0, \"ticks\": \"\"}, \"colorscale\": [[0.0, \"#0d0887\"], [0.1111111111111111, \"#46039f\"], [0.2222222222222222, \"#7201a8\"], [0.3333333333333333, \"#9c179e\"], [0.4444444444444444, \"#bd3786\"], [0.5555555555555556, \"#d8576b\"], [0.6666666666666666, \"#ed7953\"], [0.7777777777777778, \"#fb9f3a\"], [0.8888888888888888, \"#fdca26\"], [1.0, \"#f0f921\"]], \"type\": \"heatmapgl\"}], \"histogram\": [{\"marker\": {\"colorbar\": {\"outlinewidth\": 0, \"ticks\": \"\"}}, \"type\": \"histogram\"}], \"histogram2d\": [{\"colorbar\": {\"outlinewidth\": 0, \"ticks\": \"\"}, \"colorscale\": [[0.0, \"#0d0887\"], [0.1111111111111111, \"#46039f\"], [0.2222222222222222, \"#7201a8\"], [0.3333333333333333, \"#9c179e\"], [0.4444444444444444, \"#bd3786\"], [0.5555555555555556, \"#d8576b\"], [0.6666666666666666, \"#ed7953\"], [0.7777777777777778, \"#fb9f3a\"], [0.8888888888888888, \"#fdca26\"], [1.0, \"#f0f921\"]], \"type\": \"histogram2d\"}], \"histogram2dcontour\": [{\"colorbar\": {\"outlinewidth\": 0, \"ticks\": \"\"}, \"colorscale\": [[0.0, \"#0d0887\"], [0.1111111111111111, \"#46039f\"], [0.2222222222222222, \"#7201a8\"], [0.3333333333333333, \"#9c179e\"], [0.4444444444444444, \"#bd3786\"], [0.5555555555555556, \"#d8576b\"], [0.6666666666666666, \"#ed7953\"], [0.7777777777777778, \"#fb9f3a\"], [0.8888888888888888, \"#fdca26\"], [1.0, \"#f0f921\"]], \"type\": \"histogram2dcontour\"}], \"mesh3d\": [{\"colorbar\": {\"outlinewidth\": 0, \"ticks\": \"\"}, \"type\": \"mesh3d\"}], \"parcoords\": [{\"line\": {\"colorbar\": {\"outlinewidth\": 0, \"ticks\": \"\"}}, \"type\": \"parcoords\"}], \"pie\": [{\"automargin\": true, \"type\": \"pie\"}], \"scatter\": [{\"marker\": {\"colorbar\": {\"outlinewidth\": 0, \"ticks\": \"\"}}, \"type\": \"scatter\"}], \"scatter3d\": [{\"line\": {\"colorbar\": {\"outlinewidth\": 0, \"ticks\": \"\"}}, \"marker\": {\"colorbar\": {\"outlinewidth\": 0, \"ticks\": \"\"}}, \"type\": \"scatter3d\"}], \"scattercarpet\": [{\"marker\": {\"colorbar\": {\"outlinewidth\": 0, \"ticks\": \"\"}}, \"type\": \"scattercarpet\"}], \"scattergeo\": [{\"marker\": {\"colorbar\": {\"outlinewidth\": 0, \"ticks\": \"\"}}, \"type\": \"scattergeo\"}], \"scattergl\": [{\"marker\": {\"colorbar\": {\"outlinewidth\": 0, \"ticks\": \"\"}}, \"type\": \"scattergl\"}], \"scattermapbox\": [{\"marker\": {\"colorbar\": {\"outlinewidth\": 0, \"ticks\": \"\"}}, \"type\": \"scattermapbox\"}], \"scatterpolar\": [{\"marker\": {\"colorbar\": {\"outlinewidth\": 0, \"ticks\": \"\"}}, \"type\": \"scatterpolar\"}], \"scatterpolargl\": [{\"marker\": {\"colorbar\": {\"outlinewidth\": 0, \"ticks\": \"\"}}, \"type\": \"scatterpolargl\"}], \"scatterternary\": [{\"marker\": {\"colorbar\": {\"outlinewidth\": 0, \"ticks\": \"\"}}, \"type\": \"scatterternary\"}], \"surface\": [{\"colorbar\": {\"outlinewidth\": 0, \"ticks\": \"\"}, \"colorscale\": [[0.0, \"#0d0887\"], [0.1111111111111111, \"#46039f\"], [0.2222222222222222, \"#7201a8\"], [0.3333333333333333, \"#9c179e\"], [0.4444444444444444, \"#bd3786\"], [0.5555555555555556, \"#d8576b\"], [0.6666666666666666, \"#ed7953\"], [0.7777777777777778, \"#fb9f3a\"], [0.8888888888888888, \"#fdca26\"], [1.0, \"#f0f921\"]], \"type\": \"surface\"}], \"table\": [{\"cells\": {\"fill\": {\"color\": \"#EBF0F8\"}, \"line\": {\"color\": \"white\"}}, \"header\": {\"fill\": {\"color\": \"#C8D4E3\"}, \"line\": {\"color\": \"white\"}}, \"type\": \"table\"}]}, \"layout\": {\"annotationdefaults\": {\"arrowcolor\": \"#2a3f5f\", \"arrowhead\": 0, \"arrowwidth\": 1}, \"coloraxis\": {\"colorbar\": {\"outlinewidth\": 0, \"ticks\": \"\"}}, \"colorscale\": {\"diverging\": [[0, \"#8e0152\"], [0.1, \"#c51b7d\"], [0.2, \"#de77ae\"], [0.3, \"#f1b6da\"], [0.4, \"#fde0ef\"], [0.5, \"#f7f7f7\"], [0.6, \"#e6f5d0\"], [0.7, \"#b8e186\"], [0.8, \"#7fbc41\"], [0.9, \"#4d9221\"], [1, \"#276419\"]], \"sequential\": [[0.0, \"#0d0887\"], [0.1111111111111111, \"#46039f\"], [0.2222222222222222, \"#7201a8\"], [0.3333333333333333, \"#9c179e\"], [0.4444444444444444, \"#bd3786\"], [0.5555555555555556, \"#d8576b\"], [0.6666666666666666, \"#ed7953\"], [0.7777777777777778, \"#fb9f3a\"], [0.8888888888888888, \"#fdca26\"], [1.0, \"#f0f921\"]], \"sequentialminus\": [[0.0, \"#0d0887\"], [0.1111111111111111, \"#46039f\"], [0.2222222222222222, \"#7201a8\"], [0.3333333333333333, \"#9c179e\"], [0.4444444444444444, \"#bd3786\"], [0.5555555555555556, \"#d8576b\"], [0.6666666666666666, \"#ed7953\"], [0.7777777777777778, \"#fb9f3a\"], [0.8888888888888888, \"#fdca26\"], [1.0, \"#f0f921\"]]}, \"colorway\": [\"#636efa\", \"#EF553B\", \"#00cc96\", \"#ab63fa\", \"#FFA15A\", \"#19d3f3\", \"#FF6692\", \"#B6E880\", \"#FF97FF\", \"#FECB52\"], \"font\": {\"color\": \"#2a3f5f\"}, \"geo\": {\"bgcolor\": \"white\", \"lakecolor\": \"white\", \"landcolor\": \"#E5ECF6\", \"showlakes\": true, \"showland\": true, \"subunitcolor\": \"white\"}, \"hoverlabel\": {\"align\": \"left\"}, \"hovermode\": \"closest\", \"mapbox\": {\"style\": \"light\"}, \"paper_bgcolor\": \"white\", \"plot_bgcolor\": \"#E5ECF6\", \"polar\": {\"angularaxis\": {\"gridcolor\": \"white\", \"linecolor\": \"white\", \"ticks\": \"\"}, \"bgcolor\": \"#E5ECF6\", \"radialaxis\": {\"gridcolor\": \"white\", \"linecolor\": \"white\", \"ticks\": \"\"}}, \"scene\": {\"xaxis\": {\"backgroundcolor\": \"#E5ECF6\", \"gridcolor\": \"white\", \"gridwidth\": 2, \"linecolor\": \"white\", \"showbackground\": true, \"ticks\": \"\", \"zerolinecolor\": \"white\"}, \"yaxis\": {\"backgroundcolor\": \"#E5ECF6\", \"gridcolor\": \"white\", \"gridwidth\": 2, \"linecolor\": \"white\", \"showbackground\": true, \"ticks\": \"\", \"zerolinecolor\": \"white\"}, \"zaxis\": {\"backgroundcolor\": \"#E5ECF6\", \"gridcolor\": \"white\", \"gridwidth\": 2, \"linecolor\": \"white\", \"showbackground\": true, \"ticks\": \"\", \"zerolinecolor\": \"white\"}}, \"shapedefaults\": {\"line\": {\"color\": \"#2a3f5f\"}}, \"ternary\": {\"aaxis\": {\"gridcolor\": \"white\", \"linecolor\": \"white\", \"ticks\": \"\"}, \"baxis\": {\"gridcolor\": \"white\", \"linecolor\": \"white\", \"ticks\": \"\"}, \"bgcolor\": \"#E5ECF6\", \"caxis\": {\"gridcolor\": \"white\", \"linecolor\": \"white\", \"ticks\": \"\"}}, \"title\": {\"x\": 0.05}, \"xaxis\": {\"automargin\": true, \"gridcolor\": \"white\", \"linecolor\": \"white\", \"ticks\": \"\", \"title\": {\"standoff\": 15}, \"zerolinecolor\": \"white\", \"zerolinewidth\": 2}, \"yaxis\": {\"automargin\": true, \"gridcolor\": \"white\", \"linecolor\": \"white\", \"ticks\": \"\", \"title\": {\"standoff\": 15}, \"zerolinecolor\": \"white\", \"zerolinewidth\": 2}}}, \"title\": {\"text\": \"Empresas com Selo Turismo Respons\\u00e1vel por Atividade\"}},\n",
              "                        {\"responsive\": true}\n",
              "                    ).then(function(){\n",
              "                            \n",
              "var gd = document.getElementById('a9256be4-dfc7-414c-a38f-029730bf1b53');\n",
              "var x = new MutationObserver(function (mutations, observer) {{\n",
              "        var display = window.getComputedStyle(gd).display;\n",
              "        if (!display || display === 'none') {{\n",
              "            console.log([gd, 'removed!']);\n",
              "            Plotly.purge(gd);\n",
              "            observer.disconnect();\n",
              "        }}\n",
              "}});\n",
              "\n",
              "// Listen for the removal of the full notebook cells\n",
              "var notebookContainer = gd.closest('#notebook-container');\n",
              "if (notebookContainer) {{\n",
              "    x.observe(notebookContainer, {childList: true});\n",
              "}}\n",
              "\n",
              "// Listen for the clearing of the current output cell\n",
              "var outputEl = gd.closest('.output');\n",
              "if (outputEl) {{\n",
              "    x.observe(outputEl, {childList: true});\n",
              "}}\n",
              "\n",
              "                        })\n",
              "                };\n",
              "                \n",
              "            </script>\n",
              "        </div>\n",
              "</body>\n",
              "</html>"
            ]
          },
          "metadata": {
            "tags": []
          }
        }
      ]
    },
    {
      "cell_type": "markdown",
      "metadata": {
        "id": "hTh0LYLHY6Hd",
        "colab_type": "text"
      },
      "source": [
        "## Planilha de turismo do Alagoas"
      ]
    },
    {
      "cell_type": "code",
      "metadata": {
        "id": "Mup0qmXQx6Z2",
        "colab_type": "code",
        "colab": {
          "base_uri": "https://localhost:8080/",
          "height": 104
        },
        "outputId": "9e71374e-7ef4-47de-f253-051f03186bfc"
      },
      "source": [
        "url = 'https://raw.githubusercontent.com/VitorPaes/hackathon_stn/master/dataset/convertcsv3.csv'\n",
        "df = pd.read_csv(url, sep=\";\", encoding='latin')\n",
        "\n",
        "for col in ['Nome', 'Município', \"Segmento\"]:\n",
        "  df[col] = df[col].str.strip()\n",
        "\n",
        "col = \"Segmento\"\n",
        "df[col] = df[col].str.replace(\"Sol e Praia\",\"Praia\")\n",
        "\n",
        "\n",
        "col = \"Município\"\n",
        "df[col] = df[col].str.replace(\"-AL\",\"\")\n",
        "\n",
        "col = \"Distância da Capital (km)\" \n",
        "df[col] = df[col].str.replace(\",\",\".\").astype('float')\n",
        "\n",
        "col = \"Tempo de condução estimado\" \n",
        "df[col] = df[col].str.replace(\".\",\"\")\n",
        "df[col] = df[col].str.replace(\"minutos\",\"min\")\n",
        "df[col] = df[col].str.replace(\" \",\"\")\n",
        "df[col] = df[col].str.replace(\"he\",\":\")\n",
        "\n",
        "df[col] = df[col].str.replace(r\"^([0-9]+)min\",\"00:\\\\1\")\n",
        "df[col] = df[col].str.replace(r\"([0-9]+)h$\",\"\\\\1:00\")\n",
        "df[col] = df[col].str.replace(\"min\",\"\")\n",
        "df[col] = df[col].str.replace(\"^([0-9]):\",\"0\\\\1:\")\n",
        "df[col] = df[col].str.replace(\":([0-9])$\",\":0\\\\1\")\n",
        "\n",
        "col = \"Latitude\" \n",
        "df[col] = df[col].astype('str').str.replace(\".\",\"\")\n",
        "df[col] = df[col].str.replace(\"^-9\",\"-9.\")\n",
        "df[col] = df[col].str.replace(\"^-10\",\"-10.\").astype('float')\n",
        "\n",
        "col = \"Longitude\"\n",
        "df[col] = df[col].astype('str').str.replace(\".\",\"\")\n",
        "df[col] = df[col].str.replace(\"^-3\",\"-3.\").astype('float')\n",
        "\n",
        "col = \"Segmento\"\n",
        "df[col].value_counts()"
      ],
      "execution_count": 9,
      "outputs": [
        {
          "output_type": "execute_result",
          "data": {
            "text/plain": [
              "Praia                        56\n",
              "Histórico/Cultural           17\n",
              "Ecoturismo/Aventura           6\n",
              "Ecoturismo/Aventura/Praia     1\n",
              "Name: Segmento, dtype: int64"
            ]
          },
          "metadata": {
            "tags": []
          },
          "execution_count": 9
        }
      ]
    },
    {
      "cell_type": "markdown",
      "metadata": {
        "id": "a2JxGQKkZyw7",
        "colab_type": "text"
      },
      "source": [
        "## Tableau brasil.io"
      ]
    },
    {
      "cell_type": "code",
      "metadata": {
        "id": "Jgrte5nsJlKD",
        "colab_type": "code",
        "colab": {
          "base_uri": "https://localhost:8080/",
          "height": 1000
        },
        "outputId": "b7d7ac4f-2e52-41c4-dd05-f661b50504c3"
      },
      "source": [
        "%%html\n",
        "<div class='tableauPlaceholder' id='viz1596311061648' style='position: relative'><noscript>\n",
        "  <a href='#'>\n",
        "    <img alt=' ' src='https:&#47;&#47;public.tableau.com&#47;static&#47;images&#47;Co&#47;Covid-19Alagoas&#47;MonitorCovid-19-Alagoas&#47;1_rss.png' style='border: none' />\n",
        "    </a></noscript>\n",
        "  <object class='tableauViz'  style='display:none;'>\n",
        "    <param name='host_url' value='https%3A%2F%2Fpublic.tableau.com%2F' />\n",
        "  <param name='embed_code_version' value='3' />\n",
        "  <param name='path' value='views&#47;Covid-19Alagoas&#47;MonitorCovid-19-Alagoas?:language=pt&amp;:embed=y&amp;:display_count=y' />\n",
        "  <param name='toolbar' value='yes' />\n",
        "  <param name='static_image' value='https:&#47;&#47;public.tableau.com&#47;static&#47;images&#47;Co&#47;Covid-19Alagoas&#47;MonitorCovid-19-Alagoas&#47;1.png' />\n",
        "  <param name='animate_transition' value='yes' />\n",
        "  <param name='display_static_image' value='yes' />\n",
        "  <param name='display_spinner' value='yes' />\n",
        "  <param name='display_overlay' value='yes' />\n",
        "  <param name='display_count' value='yes' />\n",
        "  <param name='language' value='pt' />\n",
        "  </object></div>\n",
        "  <script type='text/javascript'>\n",
        "  var divElement = document.getElementById('viz1596311061648');\n",
        "  var vizElement = divElement.getElementsByTagName('object')[0];\n",
        "  if ( divElement.offsetWidth > 800 ) { vizElement.style.width='100%';\n",
        "  vizElement.style.height=(divElement.offsetWidth*0.75)+'px';} \n",
        "  else if ( divElement.offsetWidth > 500 ) \n",
        "  { vizElement.style.width='100%';vizElement.style.height=(divElement.offsetWidth*0.75)+'px';}\n",
        "   else { vizElement.style.width='100%';vizElement.style.height='1227px';}\n",
        "  var scriptElement = document.createElement('script');\n",
        "  scriptElement.src = 'https://public.tableau.com/javascripts/api/viz_v1.js';\n",
        "  vizElement.parentNode.insertBefore(scriptElement, vizElement);\n",
        "  </script>"
      ],
      "execution_count": 10,
      "outputs": [
        {
          "output_type": "display_data",
          "data": {
            "text/html": [
              "<div class='tableauPlaceholder' id='viz1596311061648' style='position: relative'><noscript>\n",
              "  <a href='#'>\n",
              "    <img alt=' ' src='https:&#47;&#47;public.tableau.com&#47;static&#47;images&#47;Co&#47;Covid-19Alagoas&#47;MonitorCovid-19-Alagoas&#47;1_rss.png' style='border: none' />\n",
              "    </a></noscript>\n",
              "  <object class='tableauViz'  style='display:none;'>\n",
              "    <param name='host_url' value='https%3A%2F%2Fpublic.tableau.com%2F' />\n",
              "  <param name='embed_code_version' value='3' />\n",
              "  <param name='path' value='views&#47;Covid-19Alagoas&#47;MonitorCovid-19-Alagoas?:language=pt&amp;:embed=y&amp;:display_count=y' />\n",
              "  <param name='toolbar' value='yes' />\n",
              "  <param name='static_image' value='https:&#47;&#47;public.tableau.com&#47;static&#47;images&#47;Co&#47;Covid-19Alagoas&#47;MonitorCovid-19-Alagoas&#47;1.png' />\n",
              "  <param name='animate_transition' value='yes' />\n",
              "  <param name='display_static_image' value='yes' />\n",
              "  <param name='display_spinner' value='yes' />\n",
              "  <param name='display_overlay' value='yes' />\n",
              "  <param name='display_count' value='yes' />\n",
              "  <param name='language' value='pt' />\n",
              "  </object></div>\n",
              "  <script type='text/javascript'>\n",
              "  var divElement = document.getElementById('viz1596311061648');\n",
              "  var vizElement = divElement.getElementsByTagName('object')[0];\n",
              "  if ( divElement.offsetWidth > 800 ) { vizElement.style.width='100%';\n",
              "  vizElement.style.height=(divElement.offsetWidth*0.75)+'px';} \n",
              "  else if ( divElement.offsetWidth > 500 ) \n",
              "  { vizElement.style.width='100%';vizElement.style.height=(divElement.offsetWidth*0.75)+'px';}\n",
              "   else { vizElement.style.width='100%';vizElement.style.height='1227px';}\n",
              "  var scriptElement = document.createElement('script');\n",
              "  scriptElement.src = 'https://public.tableau.com/javascripts/api/viz_v1.js';\n",
              "  vizElement.parentNode.insertBefore(scriptElement, vizElement);\n",
              "  </script>"
            ],
            "text/plain": [
              "<IPython.core.display.HTML object>"
            ]
          },
          "metadata": {
            "tags": []
          }
        }
      ]
    },
    {
      "cell_type": "markdown",
      "metadata": {
        "id": "YKBRyHTqsOia",
        "colab_type": "text"
      },
      "source": [
        "## Caged\n",
        "Dados desemprego"
      ]
    },
    {
      "cell_type": "code",
      "metadata": {
        "id": "Mju22GbYaUxE",
        "colab_type": "code",
        "colab": {}
      },
      "source": [
        "url = 'https://github.com/VitorPaes/hackathon_stn/blob/master/dataset/2006_dadosCaged.xlsx?raw=true'\n",
        "DF_list = pd.read_excel(url, None)\n"
      ],
      "execution_count": 11,
      "outputs": []
    },
    {
      "cell_type": "code",
      "metadata": {
        "id": "KXTEEscHsjvi",
        "colab_type": "code",
        "colab": {
          "base_uri": "https://localhost:8080/",
          "height": 554
        },
        "outputId": "b07c30d4-a00b-4bd2-873a-cfe9ce691967"
      },
      "source": [
        "df = DF_list['Tabela 4'].iloc[4:33, 1:31]\n",
        "df.columns = df.iloc[0]\n",
        "df.drop(df.index[0],inplace=True)\n",
        "df.index = df.iloc[:,0]\n",
        "df.columns = df.columns.fillna('to_drop')\n",
        "df.drop('to_drop', axis = 1, inplace = True)\n",
        "df.loc[\"Alojamento e alimentação\"]"
      ],
      "execution_count": 12,
      "outputs": [
        {
          "output_type": "execute_result",
          "data": {
            "text/plain": [
              "4\n",
              "Rondônia                 -222\n",
              "Acre                      -48\n",
              "Amazonas                 -106\n",
              "Roraima                   -49\n",
              "Pará                     -142\n",
              "Amapá                     -29\n",
              "Tocantins                 -59\n",
              "Maranhão                 -159\n",
              "Piauí                    -288\n",
              "Ceará                    -590\n",
              "Rio Grande do Norte      -408\n",
              "Paraíba                  -159\n",
              "Pernambuco              -1001\n",
              "Alagoas                  -475\n",
              "Sergipe                  -247\n",
              "Bahia                   -1652\n",
              "Minas Gerais            -3348\n",
              "Espírito Santo           -705\n",
              "Rio de Janeiro          -6726\n",
              "São Paulo              -10412\n",
              "Paraná                  -2102\n",
              "Santa Catarina          -1577\n",
              "Rio Grande do Sul       -1778\n",
              "Mato Grosso do Sul       -284\n",
              "Mato Grosso              -363\n",
              "Goiás                   -1342\n",
              "Distrito Federal        -1068\n",
              "Não identificado           -1\n",
              "Total                  -35340\n",
              "Name: Alojamento e alimentação, dtype: object"
            ]
          },
          "metadata": {
            "tags": []
          },
          "execution_count": 12
        }
      ]
    },
    {
      "cell_type": "markdown",
      "metadata": {
        "id": "-4z3hmdLNQIG",
        "colab_type": "text"
      },
      "source": [
        "Foram extintos 280.017 empregos no setor de Alojamento e alimentação no Brasil apenas em 2020."
      ]
    },
    {
      "cell_type": "code",
      "metadata": {
        "id": "7grdEnIut7Et",
        "colab_type": "code",
        "colab": {
          "base_uri": "https://localhost:8080/",
          "height": 298
        },
        "outputId": "7139228e-b650-474d-9574-eb30f584095e"
      },
      "source": [
        "import numpy as np\n",
        "df = DF_list['Tabela 6'].iloc[4:33, 1:131]\n",
        "df.columns = df.iloc[0]\n",
        "df.drop(df.index[0],inplace=True)\n",
        "df.index = df.iloc[:,0]\n",
        "df.columns = df.columns.fillna('to_drop')\n",
        "df.drop('to_drop', axis = 1, inplace = True)\n",
        "\n",
        "df_red = df.loc[[\"Alojamento e alimentação\"]].drop(columns=[\"Admissões\", \"Estoque\", \"Desligamentos\", \"Variação Relativa (%)\"])\n",
        "df_red.columns=[\"jan\",\"fev\",\"mar\",\"abr\",\"mai\",\"jun\",\"jul\",\"ago\",\"set\",\"out\",\"nov\",\"dez\",2020]\n",
        "df_red.iloc[0,6:12]=np.nan\n",
        "df_red = df_red.T\n",
        "df_red\n",
        "plt.plot(df_red[\"Alojamento e alimentação\"].iloc[0:6])\n",
        "plt.title(\"Saldo vagas: alojamento e alimentação - Brasil 2020 - CAGED\");\n",
        "print(\"Saldo acumulado 2020: \", int(df_red.min()))"
      ],
      "execution_count": 13,
      "outputs": [
        {
          "output_type": "stream",
          "text": [
            "Saldo acumulado 2020:  -280017\n"
          ],
          "name": "stdout"
        },
        {
          "output_type": "display_data",
          "data": {
            "image/png": "[encoded data removed]",
            "text/plain": [
              "<Figure size 432x288 with 1 Axes>"
            ]
          },
          "metadata": {
            "tags": [],
            "needs_background": "light"
          }
        }
      ]
    },
    {
      "cell_type": "markdown",
      "metadata": {
        "id": "VzZd-XpeG1f6",
        "colab_type": "text"
      },
      "source": [
        "# Sistema de recomendação"
      ]
    },
    {
      "cell_type": "markdown",
      "metadata": {
        "id": "wfVZQwVbbxAQ",
        "colab_type": "text"
      },
      "source": [
        "Dados teste"
      ]
    },
    {
      "cell_type": "code",
      "metadata": {
        "id": "TjvPrJbJ_aRw",
        "colab_type": "code",
        "colab": {}
      },
      "source": [
        "from collections import Counter\n",
        "from collections import defaultdict\n",
        "\n",
        "\"\"\"\n",
        "Informações de usuários\n",
        "\n",
        "Representação: id, nome\n",
        "\n",
        "\n",
        "\"\"\"\n",
        "\n",
        "usuarios = [\n",
        "    {\"id\": 0, \"name\": \"João\"},\n",
        "    {\"id\": 1, \"name\": \"Pedro\"},\n",
        "    {\"id\": 2, \"name\": \"Arthur\"},\n",
        "    {\"id\": 3, \"name\": \"Clara\"},\n",
        "    {\"id\": 4, \"name\": \"Roberto\"},\n",
        "    {\"id\": 5, \"name\": \"Júlia\"},\n",
        "    {\"id\": 6, \"name\": \"Amanda\"},\n",
        "    {\"id\": 7, \"name\": \"André\"},\n",
        "    {\"id\": 8, \"name\": \"Eduardo\"},\n",
        "    {\"id\": 9, \"name\": \"Rafael\"}\n",
        "]\n",
        "\n",
        "\n",
        "\"\"\"\n",
        "Interesses\n",
        "\n",
        "Representação: id, turismo_tipos\n",
        "\n",
        "\"\"\"\n",
        "\n",
        "turismo_tipos = [\n",
        "    (0, \"Praia\"), (0, \"Histórico\"),\n",
        "    (1, \"Praia\"),\n",
        "    (2, \"Praia\"), (2, \"Ecoturismo\"),\n",
        "    (3, \"Praia\"),\n",
        "    (4, \"Praia\"), (4, \"Aventura\"),\n",
        "    (5, \"Praia\"), (5, \"Negócios\"),\n",
        "    (6, \"Praia\"), (6, \"Ecoturismo\"), (6, \"Aventura\"),\n",
        "    (7, \"Praia\"), (7, \"Eventos\"),\n",
        "    (8, \"Praia\"),\n",
        "    (9, \"Histórico\")\n",
        "]\n",
        "\n",
        "\n",
        "hospedagem_tipos = [\n",
        "    (0, \"Hotel\"),\n",
        "    (1, \"Airbnb\"), (1, \"Pousada\"),\n",
        "    (2, \"Casa_Parente\"),\n",
        "    (3, \"Pousada\"),\n",
        "    (4, \"Casa_Amigo\"),\n",
        "    (5, \"Hotel\"), (5, \"Pousada\"),\n",
        "    (6, \"NA\"),\n",
        "    (7, \"Casa_Amigo\"),\n",
        "    (8, \"Pousada\"),\n",
        "    (9, \"Airbnb\")\n",
        "]\n",
        "\n",
        "\n",
        "alimentacao_tipos = [\n",
        "    (0, \"Pizza\"),\n",
        "    (1, \"Churrasco\"), (1, \"Lanche\"),\n",
        "    (2, \"Padaria\"),\n",
        "    (3, \"Japonesa\"),\n",
        "    (4, \"Frutos_do_mar\"),\n",
        "    (5, \"Pizza\"),\n",
        "    (6, \"Frutos_do_mar\"),\n",
        "    (7, \"NA\"),\n",
        "    (8, \"Lanche\"), (8, \"Pizza\"),\n",
        "    (9, \"Churrasco\")                     \n",
        "]\n",
        "\n",
        "\n",
        "\n"
      ],
      "execution_count": 29,
      "outputs": []
    },
    {
      "cell_type": "code",
      "metadata": {
        "id": "t8FSOysT1e_c",
        "colab_type": "code",
        "colab": {}
      },
      "source": [
        "## TODO \n",
        "# DICIONARIO COM TERMOS SIMILARES\n",
        "# ex: Ecoturismo: natureza\n",
        "\n",
        "\n",
        "import random\n",
        "\n",
        "lista_nomes = [\"João\", \"Pedro\", \"Arthur\", \"Clara\", \"Roberto\", \"Júlia\",\n",
        "               \"Amanda\", \"André\", \"Eduardo\", \"Rafael\"]#, \"NA\"]\n",
        "\n",
        "lista_nomes = [\"Winford\", \"Christal\", \"Ellamae\", \"Tammara\", \"Alisa\",\n",
        "\"Jenise\", \"Markita\",\"Marcela\", \"Catrina\", \"Armida\",\n",
        "\"Alayna\", \"Diego\", \"Chasity\", \"Elina\", \"Neely\",\n",
        "\"Darlene\", \"Raina\", \"Thu\", \"Wilton\", \"Floy\",\n",
        "\"Carlita\", \"Jami\", \"Joye\", \"Luana\", \"Nikita\",\n",
        "\"Jerome\", \"Otto\", \"Sherika\", \"Dena\", \"Bryon\", \"Ewa\",\n",
        "\"Rosalva\", \"Roseline\", \"Suzan\", \"Deloris\", \"Jinny\",\n",
        "\"Victorina\", \"Albertine\", \"Luanna\", \"Toby\", \"Kara\",\n",
        "\"Shan\", \"Deane\", \"Sammy\", \"Ginger\", \"Audra\",\n",
        "\"Dorinda\", \"Colene\", \"Anh\", \"Beatris\"]\n",
        "\n",
        "               \n",
        "\n",
        "lista_turismo = [\"Praia\", \"Histórico\", \"Aventura\", \"Negócios\", \"Ecoturismo\",\n",
        "                 \"Evento\"]#, \"NA\"]\n",
        "lista_hospedagem = [\"Hotel\", \"Airbnb\", \"Pousada\", \"Casa_Parente\", \"Casa_Amigo\"]#,\n",
        "                    #\"NA\"]\n",
        "lista_alimentacao = [\"Pizza\", \"Churrasco\", \"Lanche\", \"Padaria\", \"Japonesa\",\n",
        "                     \"Frutos do Mar\"]#, \"NA\"]\n",
        "\n",
        "usuarios = []\n",
        "turismo_tipos = []\n",
        "alimentacao_tipos = []\n",
        "hospedagem_tipos =[]\n",
        "\n",
        "\n",
        "num_simulations = 49\n",
        "num_options = [1, 2, 3]\n",
        "for i in range(num_simulations):\n",
        "  # usuarios.append({\"id\": i, \"name\": random.choice(lista_nomes)})\n",
        "  usuarios.append({\"id\": i, \"name\": lista_nomes[i]})\n",
        "  turismo_tipos.append((i, random.choice(lista_turismo)))\n",
        "  hospedagem_tipos.append((i, random.choice(lista_hospedagem)))\n",
        "  alimentacao_tipos.append((i, random.choice(lista_alimentacao)))\n",
        "\n",
        "\n",
        "# TODO\n",
        "# ACRESCENTAR NA OU MULTIPLAS OPCOES\n",
        "\n",
        "\n",
        "  #for j in range(1,random.choice(num_options)):\n",
        "  #  turismo_tipos.append((i, random.sample(lista_turismo,k=j)))\n",
        "  #hospedagem_tipos.append((i,\n",
        "  #                      random.sample(lista_hospedagem,\n",
        "  #                                     k=random.choice(num_options))))\n",
        "  #alimentacao_tipos.append((i,\n",
        "  #                      random.sample(lista_alimentacao,\n",
        "  #                                     k=random.choice(num_options))))\n",
        "\n",
        "\n",
        "# TODO\n",
        "# CONFERIR POR QUE NAO ESTA GERANDO PREDICAO\n",
        "\n",
        "\n"
      ],
      "execution_count": 88,
      "outputs": []
    },
    {
      "cell_type": "code",
      "metadata": {
        "id": "2_R9aX3u9qAO",
        "colab_type": "code",
        "colab": {
          "base_uri": "https://localhost:8080/",
          "height": 918
        },
        "outputId": "63616bc3-0f7b-433f-ca2c-923401ec2f6e"
      },
      "source": [
        "l = []\n",
        "while len(l) < 52:\n",
        "    number = random.randint(1, 13)\n",
        "    suit = random.choice(['hearts', 'clubs', 'diamonds', 'spades'])\n",
        "    card = (number, suit)\n",
        "    if card not in l:\n",
        "        l.append(card)\n",
        "l"
      ],
      "execution_count": 81,
      "outputs": [
        {
          "output_type": "execute_result",
          "data": {
            "text/plain": [
              "[(1, 'spades'),\n",
              " (10, 'clubs'),\n",
              " (11, 'clubs'),\n",
              " (13, 'diamonds'),\n",
              " (5, 'spades'),\n",
              " (9, 'spades'),\n",
              " (6, 'clubs'),\n",
              " (1, 'diamonds'),\n",
              " (13, 'clubs'),\n",
              " (7, 'diamonds'),\n",
              " (10, 'diamonds'),\n",
              " (5, 'clubs'),\n",
              " (6, 'diamonds'),\n",
              " (12, 'hearts'),\n",
              " (3, 'hearts'),\n",
              " (3, 'diamonds'),\n",
              " (9, 'diamonds'),\n",
              " (1, 'hearts'),\n",
              " (2, 'hearts'),\n",
              " (9, 'clubs'),\n",
              " (8, 'diamonds'),\n",
              " (3, 'spades'),\n",
              " (8, 'spades'),\n",
              " (7, 'spades'),\n",
              " (12, 'spades'),\n",
              " (9, 'hearts'),\n",
              " (6, 'hearts'),\n",
              " (1, 'clubs'),\n",
              " (10, 'spades'),\n",
              " (13, 'hearts'),\n",
              " (12, 'clubs'),\n",
              " (11, 'hearts'),\n",
              " (7, 'hearts'),\n",
              " (5, 'diamonds'),\n",
              " (4, 'hearts'),\n",
              " (11, 'diamonds'),\n",
              " (3, 'clubs'),\n",
              " (4, 'diamonds'),\n",
              " (10, 'hearts'),\n",
              " (7, 'clubs'),\n",
              " (8, 'hearts'),\n",
              " (12, 'diamonds'),\n",
              " (11, 'spades'),\n",
              " (2, 'clubs'),\n",
              " (4, 'spades'),\n",
              " (8, 'clubs'),\n",
              " (2, 'spades'),\n",
              " (13, 'spades'),\n",
              " (6, 'spades'),\n",
              " (5, 'hearts'),\n",
              " (4, 'clubs'),\n",
              " (2, 'diamonds')]"
            ]
          },
          "metadata": {
            "tags": []
          },
          "execution_count": 81
        }
      ]
    },
    {
      "cell_type": "code",
      "metadata": {
        "id": "qCP6nLS-7kqw",
        "colab_type": "code",
        "colab": {
          "base_uri": "https://localhost:8080/",
          "height": 1000
        },
        "outputId": "338eb951-1fdf-4540-c51a-a39f55f18d22"
      },
      "source": [
        "hospedagem_tipos"
      ],
      "execution_count": 82,
      "outputs": [
        {
          "output_type": "execute_result",
          "data": {
            "text/plain": [
              "[(0, 'Casa_Amigo'),\n",
              " (1, 'Casa_Parente'),\n",
              " (2, 'Airbnb'),\n",
              " (3, 'Hotel'),\n",
              " (4, 'Hotel'),\n",
              " (5, 'Hotel'),\n",
              " (6, 'Airbnb'),\n",
              " (7, 'Airbnb'),\n",
              " (8, 'Hotel'),\n",
              " (9, 'Pousada'),\n",
              " (10, 'Casa_Parente'),\n",
              " (11, 'Casa_Parente'),\n",
              " (12, 'Casa_Amigo'),\n",
              " (13, 'Casa_Parente'),\n",
              " (14, 'Casa_Amigo'),\n",
              " (15, 'Casa_Parente'),\n",
              " (16, 'Pousada'),\n",
              " (17, 'Airbnb'),\n",
              " (18, 'Casa_Amigo'),\n",
              " (19, 'Airbnb'),\n",
              " (20, 'Airbnb'),\n",
              " (21, 'Hotel'),\n",
              " (22, 'Casa_Amigo'),\n",
              " (23, 'Casa_Amigo'),\n",
              " (24, 'Casa_Amigo'),\n",
              " (25, 'Hotel'),\n",
              " (26, 'Casa_Amigo'),\n",
              " (27, 'Airbnb'),\n",
              " (28, 'Casa_Parente'),\n",
              " (29, 'Casa_Amigo'),\n",
              " (30, 'Casa_Amigo'),\n",
              " (31, 'Airbnb'),\n",
              " (32, 'Hotel'),\n",
              " (33, 'Airbnb'),\n",
              " (34, 'Hotel'),\n",
              " (35, 'Pousada'),\n",
              " (36, 'Hotel'),\n",
              " (37, 'Casa_Parente'),\n",
              " (38, 'Pousada'),\n",
              " (39, 'Casa_Amigo'),\n",
              " (40, 'Hotel'),\n",
              " (41, 'Hotel'),\n",
              " (42, 'Hotel'),\n",
              " (43, 'Casa_Amigo'),\n",
              " (44, 'Hotel'),\n",
              " (45, 'Casa_Amigo'),\n",
              " (46, 'Pousada'),\n",
              " (47, 'Airbnb'),\n",
              " (48, 'Airbnb'),\n",
              " (49, 'Airbnb'),\n",
              " (50, 'Pousada'),\n",
              " (51, 'Casa_Parente'),\n",
              " (52, 'Hotel'),\n",
              " (53, 'Hotel'),\n",
              " (54, 'Casa_Amigo'),\n",
              " (55, 'Casa_Parente'),\n",
              " (56, 'Hotel'),\n",
              " (57, 'Casa_Amigo'),\n",
              " (58, 'Airbnb'),\n",
              " (59, 'Casa_Parente'),\n",
              " (60, 'Casa_Parente'),\n",
              " (61, 'Casa_Amigo'),\n",
              " (62, 'Airbnb'),\n",
              " (63, 'Casa_Parente'),\n",
              " (64, 'Hotel'),\n",
              " (65, 'Pousada'),\n",
              " (66, 'Casa_Amigo'),\n",
              " (67, 'Casa_Parente'),\n",
              " (68, 'Pousada'),\n",
              " (69, 'Pousada'),\n",
              " (70, 'Casa_Parente'),\n",
              " (71, 'Casa_Amigo'),\n",
              " (72, 'Hotel'),\n",
              " (73, 'Casa_Parente'),\n",
              " (74, 'Casa_Amigo'),\n",
              " (75, 'Casa_Amigo'),\n",
              " (76, 'Hotel'),\n",
              " (77, 'Airbnb'),\n",
              " (78, 'Casa_Parente'),\n",
              " (79, 'Airbnb'),\n",
              " (80, 'Casa_Parente'),\n",
              " (81, 'Pousada'),\n",
              " (82, 'Pousada'),\n",
              " (83, 'Hotel'),\n",
              " (84, 'Hotel'),\n",
              " (85, 'Casa_Amigo'),\n",
              " (86, 'Pousada'),\n",
              " (87, 'Airbnb'),\n",
              " (88, 'Airbnb'),\n",
              " (89, 'Pousada'),\n",
              " (90, 'Casa_Parente'),\n",
              " (91, 'Airbnb'),\n",
              " (92, 'Casa_Parente'),\n",
              " (93, 'Casa_Amigo'),\n",
              " (94, 'Hotel'),\n",
              " (95, 'Casa_Amigo'),\n",
              " (96, 'Casa_Parente'),\n",
              " (97, 'Casa_Parente'),\n",
              " (98, 'Hotel'),\n",
              " (99, 'Casa_Amigo')]"
            ]
          },
          "metadata": {
            "tags": []
          },
          "execution_count": 82
        }
      ]
    },
    {
      "cell_type": "code",
      "metadata": {
        "id": "7w4Ct1lI5mRF",
        "colab_type": "code",
        "colab": {
          "base_uri": "https://localhost:8080/",
          "height": 34
        },
        "outputId": "7e933a75-888a-4128-db8c-f7efacdc97e3"
      },
      "source": [
        "# TODO: Remover NA quando ja tem multiplas opcoes\n",
        "alimentacao_tipos[16]"
      ],
      "execution_count": 83,
      "outputs": [
        {
          "output_type": "execute_result",
          "data": {
            "text/plain": [
              "(16, 'Padaria')"
            ]
          },
          "metadata": {
            "tags": []
          },
          "execution_count": 83
        }
      ]
    },
    {
      "cell_type": "markdown",
      "metadata": {
        "id": "bsjkDMSwWpaK",
        "colab_type": "text"
      },
      "source": [
        "Funções auxiliares"
      ]
    },
    {
      "cell_type": "code",
      "metadata": {
        "id": "pjTheZZ0WolF",
        "colab_type": "code",
        "colab": {}
      },
      "source": [
        "def interest_freq(interest_types, interest_name):\n",
        "  interest_freq = Counter(word for user_id, interest in interest_types\n",
        "                           for word in interest.lower().split())\n",
        "  \n",
        "  print(\"\\nTipos de \" + interest_name)\n",
        "  \n",
        "  for word, count in interest_freq.most_common():\n",
        "    if count > 1:\n",
        "        print(word, count)\n",
        "\n",
        "  return interest_freq\n",
        "\n",
        "\n",
        "def interest_unique(interest_types):\n",
        "  user_ids_by_interest = defaultdict(list)\n",
        "  interest_by_user_id = defaultdict(list)\n",
        "  unique_interest = set()\n",
        "  \n",
        "  for user_id, interest in interest_types:\n",
        "    user_ids_by_interest[interest].append(user_id)\n",
        "    interest_by_user_id[user_id].append(interest)\n",
        "    unique_interest.add(interest)\n",
        "    \n",
        "    # Ordena em ordem alfabética\n",
        "  unique_interest = sorted(list(unique_interest))\n",
        "\n",
        "  return unique_interest, interest_by_user_id, user_ids_by_interest\n",
        "\n",
        "\n",
        "\n",
        "def make_user_vector(user_id, interest_by_user_id, unique_interest):\n",
        "    \"\"\"\n",
        "      Criar vetor para um determinado usuário (usuário x interesse)\n",
        "\n",
        "      1 - Se o usuário tem\n",
        "      0 - Contrário\n",
        "\n",
        "    \"\"\"\n",
        "    return [1 if interest in interest_by_user_id[user_id]\n",
        "            else 0 for interest in unique_interest]\n",
        "\n",
        "\n",
        "def cosine_similarity(v, w):\n",
        "  \"\"\"\n",
        "      Compara dois usuários    \n",
        "  \"\"\"\n",
        "  return np.dot(v, w) / np.sqrt(np.dot(v, v) * np.dot(w, w))\n",
        "\n",
        "\n",
        "def most_similar_users_to(user_id, users_sim_matrix):\n",
        "    pairs = [(other_user_id, similarity)\n",
        "            for other_user_id, similarity in enumerate(users_sim_matrix[user_id])\n",
        "             if user_id != other_user_id and similarity > 0\n",
        "            ]\n",
        "    return sorted(pairs, key=lambda x: -x[1])\n",
        "\n",
        "\n",
        "def user_based_recommendations(user_id, interest_by_user_id, unique_interest,\n",
        "                               include_current_interests=False):\n",
        "    \"\"\"\n",
        "        Gerar recomendação baseado nos usuários mais similares\n",
        "\n",
        "    \"\"\"\n",
        "\n",
        "    # Criar matrix de interesses (usuários x interesses)\n",
        "    users_matrix = [make_user_vector(user, interest_by_user_id, unique_interest)\n",
        "                for user in turismo_por_id_usuario]\n",
        "                \n",
        "    # Criar matrix de similaridade\n",
        "    users_sim_matrix = [[cosine_similarity(interest_vector_v, interest_vector_w) \n",
        "                     for interest_vector_w in users_matrix] \n",
        "                    for interest_vector_v in users_matrix]\n",
        "    \n",
        "    ## Usuários mais similares ao usuário\n",
        "    # most_similar_users_to(0)\n",
        "    \n",
        "    ## Lista de interesses do usuário\n",
        "    # print(interest_by_user_id[0])\n",
        "\n",
        "    predictions = defaultdict(float)\n",
        "    for other_user_id, similarity in most_similar_users_to(user_id,\n",
        "                                                           users_sim_matrix):\n",
        "      for interest in interest_by_user_id[other_user_id]:\n",
        "        # Para cada interesse soma-se a similaridade dos usuários mais proxímos\n",
        "        predictions[interest] += similarity\n",
        "        \n",
        "    # converte as recomendações em uma lista ordenada\n",
        "    predictions = sorted(predictions.items(), key=lambda x: -x[1])\n",
        "        \n",
        "    # caso deseje incluir interesses existentes include_current_interests=True\n",
        "    if include_current_interests:\n",
        "        return predictions\n",
        "     \n",
        "    else:\n",
        "        return [(prediction, round(score,2)) \n",
        "            for prediction, score in predictions\n",
        "                if prediction not in interest_by_user_id[user_id]]\n",
        "\n",
        "\n",
        "def most_popular_new_interests(user_interests, popular_interests, max_results=5):\n",
        "    recommendations = [\n",
        "        (interest, frequency)\n",
        "        for interest, frequency in popular_interests.items()\n",
        "\n",
        "        if interest not in user_interests\n",
        "                      ]\n",
        "    return sorted(recommendations[:max_results], key=lambda x: -x[1])\n",
        "\n",
        "\n",
        "def recommendation(users, interest_by_user_id):\n",
        "  most_common_interest = Counter(interest for user in users \n",
        "                            for interest in interest_by_user_id[user['id']])\n",
        "  print(\"\\nRecomendações para %s:: %s \" \n",
        "      % (users[0]['name'],\n",
        "         most_popular_new_interests(interest_by_user_id[0], most_common_interest)))\n",
        "  return most_common_interest"
      ],
      "execution_count": 89,
      "outputs": []
    },
    {
      "cell_type": "markdown",
      "metadata": {
        "id": "1wGfOh23Wt0_",
        "colab_type": "text"
      },
      "source": [
        "Respostas mais frequentes, recomendações para o usuário e predição (turismo, alimentação e hospedagem)."
      ]
    },
    {
      "cell_type": "code",
      "metadata": {
        "id": "ptx4g1jfbAM2",
        "colab_type": "code",
        "colab": {
          "base_uri": "https://localhost:8080/",
          "height": 225
        },
        "outputId": "4def6de1-f274-48c8-cecb-625a56072492"
      },
      "source": [
        "turismo_freq = interest_freq(turismo_tipos, 'turismo')\n",
        "turismo_unico, turismo_por_id_usuario, id_usuario_por_turismo = interest_unique(turismo_tipos)\n",
        "popular_turismo = recommendation(usuarios, turismo_por_id_usuario)\n",
        "# Lista de recomendações para o João\n",
        "user_based_pred = user_based_recommendations(0, turismo_por_id_usuario, turismo_unico)\n",
        "print(\"\\nPredição para o usuário: \", user_based_pred)"
      ],
      "execution_count": 90,
      "outputs": [
        {
          "output_type": "stream",
          "text": [
            "\n",
            "Tipos de turismo\n",
            "evento 13\n",
            "praia 8\n",
            "ecoturismo 8\n",
            "negócios 8\n",
            "histórico 7\n",
            "aventura 5\n",
            "\n",
            "Recomendações para Winford:: [('Evento', 13), ('Ecoturismo', 8), ('Negócios', 8), ('Histórico', 7), ('Aventura', 5)] \n",
            "\n",
            "Predição para o usuário:  []\n"
          ],
          "name": "stdout"
        }
      ]
    },
    {
      "cell_type": "code",
      "metadata": {
        "id": "juMdxz_ptIXP",
        "colab_type": "code",
        "colab": {
          "base_uri": "https://localhost:8080/",
          "height": 260
        },
        "outputId": "fa259ba4-8cb8-4b39-d5e1-49faa2dabd6e"
      },
      "source": [
        "alimentacao_freq = interest_freq(alimentacao_tipos, 'alimentacao')\n",
        "alimentacao_unico, alimentacao_por_id_usuario, id_usuario_por_alimentacao = interest_unique(alimentacao_tipos)\n",
        "popular_alimentacao = recommendation(usuarios, alimentacao_por_id_usuario)\n",
        "# Lista de recomendações para o João\n",
        "user_based_pred = user_based_recommendations(0, alimentacao_por_id_usuario, alimentacao_unico)\n",
        "print(\"\\nPredição para o usuário: \", user_based_pred)"
      ],
      "execution_count": 91,
      "outputs": [
        {
          "output_type": "stream",
          "text": [
            "\n",
            "Tipos de alimentacao\n",
            "padaria 12\n",
            "churrasco 12\n",
            "lanche 10\n",
            "japonesa 6\n",
            "frutos 5\n",
            "do 5\n",
            "mar 5\n",
            "pizza 4\n",
            "\n",
            "Recomendações para Winford:: [('Padaria', 12), ('Churrasco', 12), ('Lanche', 10), ('Japonesa', 6), ('Frutos do Mar', 5)] \n",
            "\n",
            "Predição para o usuário:  []\n"
          ],
          "name": "stdout"
        }
      ]
    },
    {
      "cell_type": "code",
      "metadata": {
        "id": "QyoIkD-UH2DT",
        "colab_type": "code",
        "colab": {
          "base_uri": "https://localhost:8080/",
          "height": 208
        },
        "outputId": "04cc577a-8bc7-49f7-9145-5fea4889533c"
      },
      "source": [
        "hospedagem_freq = interest_freq(hospedagem_tipos, 'hospedagem')\n",
        "hospedagem_unico, hospedagem_por_id_usuario, id_usuario_por_hospedagem = interest_unique(hospedagem_tipos)\n",
        "popular_hospedagem = recommendation(usuarios, hospedagem_por_id_usuario)\n",
        "# Lista de recomendações para o João\n",
        "user_based_pred = user_based_recommendations(0, hospedagem_por_id_usuario, hospedagem_unico)\n",
        "print(\"\\nPredição para o usuário: \", user_based_pred)"
      ],
      "execution_count": 92,
      "outputs": [
        {
          "output_type": "stream",
          "text": [
            "\n",
            "Tipos de hospedagem\n",
            "casa_amigo 12\n",
            "hotel 10\n",
            "airbnb 10\n",
            "casa_parente 9\n",
            "pousada 8\n",
            "\n",
            "Recomendações para Winford:: [('Casa_Amigo', 12), ('Airbnb', 10), ('Casa_Parente', 9), ('Pousada', 8)] \n",
            "\n",
            "Predição para o usuário:  []\n"
          ],
          "name": "stdout"
        }
      ]
    },
    {
      "cell_type": "code",
      "metadata": {
        "id": "XWfVi4-nzC6u",
        "colab_type": "code",
        "colab": {}
      },
      "source": [
        ""
      ],
      "execution_count": 87,
      "outputs": []
    }
  ]
}